{
  "nbformat": 4,
  "nbformat_minor": 0,
  "metadata": {
    "colab": {
      "name": "my_dl_hf.ipynb",
      "provenance": [],
      "collapsed_sections": []
    },
    "kernelspec": {
      "name": "python3",
      "display_name": "Python 3"
    },
    "accelerator": "GPU"
  },
  "cells": [
    {
      "cell_type": "markdown",
      "metadata": {
        "id": "Wx2p845hv00F",
        "colab_type": "text"
      },
      "source": [
        "# Data preparation\n",
        "Takes the videos, both annotated and original ones and takes each frame apart for learning on individual images."
      ]
    },
    {
      "cell_type": "code",
      "metadata": {
        "id": "hT1NMC_QyUgM",
        "colab_type": "code",
        "outputId": "8e61c9bb-5206-4bc8-cec0-a11e52e4cca6",
        "colab": {
          "base_uri": "https://localhost:8080/",
          "height": 134
        }
      },
      "source": [
        "!git clone https://github.com/DeepTesla/deep_learning_hf dl\n",
        "%cd dl"
      ],
      "execution_count": 1,
      "outputs": [
        {
          "output_type": "stream",
          "text": [
            "Cloning into 'dl'...\n",
            "remote: Enumerating objects: 362, done.\u001b[K\n",
            "remote: Total 362 (delta 0), reused 0 (delta 0), pack-reused 362\u001b[K\n",
            "Receiving objects: 100% (362/362), 684.49 MiB | 30.27 MiB/s, done.\n",
            "Resolving deltas: 100% (87/87), done.\n",
            "Checking out files: 100% (47/47), done.\n",
            "/content/dl\n"
          ],
          "name": "stdout"
        }
      ]
    },
    {
      "cell_type": "code",
      "metadata": {
        "id": "mDVNTCbiyway",
        "colab_type": "code",
        "outputId": "a8595ce8-976b-4e40-e6f4-c5f5e9badf89",
        "colab": {
          "base_uri": "https://localhost:8080/",
          "height": 96
        }
      },
      "source": [
        "# import required libraries\n",
        "import cv2\n",
        "import os\n",
        "import glob\n",
        "import logging\n",
        "import concurrent.futures\n",
        "import numpy as np\n",
        "import keras\n",
        "\n",
        "# Set random seeds\n",
        "np.random.seed(2019)\n",
        "from tensorflow import set_random_seed\n",
        "set_random_seed(1118)\n",
        "\n",
        "keras.__version__"
      ],
      "execution_count": 2,
      "outputs": [
        {
          "output_type": "stream",
          "text": [
            "Using TensorFlow backend.\n"
          ],
          "name": "stderr"
        },
        {
          "output_type": "display_data",
          "data": {
            "text/html": [
              "<p style=\"color: red;\">\n",
              "The default version of TensorFlow in Colab will soon switch to TensorFlow 2.x.<br>\n",
              "We recommend you <a href=\"https://www.tensorflow.org/guide/migrate\" target=\"_blank\">upgrade</a> now \n",
              "or ensure your notebook will continue to use TensorFlow 1.x via the <code>%tensorflow_version 1.x</code> magic:\n",
              "<a href=\"https://colab.research.google.com/notebooks/tensorflow_version.ipynb\" target=\"_blank\">more info</a>.</p>\n"
            ],
            "text/plain": [
              "<IPython.core.display.HTML object>"
            ]
          },
          "metadata": {
            "tags": []
          }
        },
        {
          "output_type": "execute_result",
          "data": {
            "text/plain": [
              "'2.2.5'"
            ]
          },
          "metadata": {
            "tags": []
          },
          "execution_count": 2
        }
      ]
    },
    {
      "cell_type": "markdown",
      "metadata": {
        "id": "4rxGWCP0g9Yp",
        "colab_type": "text"
      },
      "source": [
        "The below code iterates through all the videos in a directory and cuts them into single images. To fasten up this process multithreading was applied."
      ]
    },
    {
      "cell_type": "code",
      "metadata": {
        "id": "jRXEDPzg6NFB",
        "colab_type": "code",
        "outputId": "ffcc842b-95f1-47d5-b01c-140f9e129cae",
        "colab": {
          "base_uri": "https://localhost:8080/",
          "height": 168
        }
      },
      "source": [
        "logging.basicConfig(level=logging.INFO, format='[%(levelname)s]: %(message)s')\n",
        "\n",
        "train_dir = os.path.join(os.getcwd(), 'data', \"train\")\n",
        "valid_dir = os.path.join(os.getcwd(), 'data', \"validation\")\n",
        "test_dir = os.path.join(os.getcwd(), 'data', \"test\")\n",
        "dirs = [train_dir, valid_dir, test_dir]\n",
        "\n",
        "new_res = (160, 120)\n",
        "\n",
        "def video2images(directory):\n",
        "    logging.info(f\"Managing directory: {directory}\")\n",
        "\n",
        "    # Get the list of available recordings\n",
        "    annot_vids = sorted(glob.glob(os.path.join(directory, '*_annot_pp.avi')))\n",
        "    orig_vids = sorted(glob.glob(os.path.join(directory, '*_orig_pp.avi')))\n",
        "\n",
        "    # Check whether original and annotated recordings number match or not\n",
        "    assert len(annot_vids) == len(orig_vids)\n",
        "    \n",
        "    logging.info(f\"{directory} Number of files found: {len(annot_vids)}. Taking apart video files...\")\n",
        "\n",
        "    os.makedirs(os.path.join(directory, 'orig'))\n",
        "    os.makedirs(os.path.join(directory, 'annot'))\n",
        "\n",
        "    img_counter = 0\n",
        "    vid_counter = 0\n",
        "    # Iterate and postprocess every recording\n",
        "    for vid_a, vid_o in zip(annot_vids, orig_vids):\n",
        "\n",
        "        # Open recordings...\n",
        "        cap_orig = cv2.VideoCapture(vid_o)\n",
        "        cap_annot = cv2.VideoCapture(vid_a)\n",
        "        if not cap_orig.isOpened() or not cap_annot.isOpened():\n",
        "            logging.warning(f\"{directory} Could not open file nr. {vid_counter}! Continuing...\", )\n",
        "            continue\n",
        "        \n",
        "        # Check whether recordings hold the same number of frames\n",
        "        if cap_orig.get(cv2.CAP_PROP_FRAME_COUNT) != cap_annot.get(cv2.CAP_PROP_FRAME_COUNT):\n",
        "            logging.warning(f\"{directory} Different video length encountered in video nr. {vid_counter}! Continuing...\")\n",
        "            continue\n",
        "        \n",
        "        \n",
        "        # Produce output videos\n",
        "        logging.debug(f\"{directory} Processing recording nr. {vid_counter}...\")\n",
        "        while cap_orig.isOpened() and cap_annot.isOpened(): # Iterate through every frame\n",
        "            ret_o, frame_o = cap_orig.read()\n",
        "            ret_a, frame_a = cap_annot.read()\n",
        "            if not ret_o or not ret_a:\n",
        "                break\n",
        "\n",
        "            frame_o = cv2.resize(frame_o, new_res)\n",
        "            frame_a = cv2.cvtColor(frame_a, cv2.COLOR_BGR2GRAY)\n",
        "            frame_a = cv2.resize(frame_a, new_res)\n",
        "\n",
        "            filename = str(img_counter).zfill(6) + '.png'\n",
        "            filepath_o = os.path.join(directory, 'orig', filename)\n",
        "            filepath_a = os.path.join(directory, 'annot', filename)\n",
        "            # Save both frames in new file\n",
        "            cv2.imwrite(filepath_o, frame_o)\n",
        "            cv2.imwrite(filepath_a, frame_a)\n",
        "\n",
        "            img_counter += 1\n",
        "\n",
        "        \n",
        "        logging.debug(f\"{directory} Processing of recording nr. {vid_counter} done.\")\n",
        "        vid_counter += 1\n",
        "        \n",
        "        # Release VideoCapture resources\n",
        "        cap_orig.release()\n",
        "        cap_annot.release()\n",
        "\n",
        "        os.remove(vid_a)\n",
        "        os.remove(vid_o)\n",
        "\n",
        "    logging.info(f\"{directory} Video files taken apart! Images generated: {img_counter}\")\n",
        "\n",
        "with concurrent.futures.ThreadPoolExecutor() as executor:\n",
        "    futures_of_images = [executor.submit(video2images, directory) for directory in dirs]\n",
        "    \n",
        "    concurrent.futures.wait(futures_of_images)"
      ],
      "execution_count": 3,
      "outputs": [
        {
          "output_type": "stream",
          "text": [
            "[INFO]: Managing directory: /content/dl/data/train\n",
            "[INFO]: Managing directory: /content/dl/data/validation\n",
            "[INFO]: /content/dl/data/validation Number of files found: 2. Taking apart video files...\n",
            "[INFO]: /content/dl/data/train Number of files found: 9. Taking apart video files...\n",
            "[INFO]: Managing directory: /content/dl/data/test\n",
            "[INFO]: /content/dl/data/test Number of files found: 3. Taking apart video files...\n",
            "[INFO]: /content/dl/data/validation Video files taken apart! Images generated: 357\n",
            "[INFO]: /content/dl/data/test Video files taken apart! Images generated: 568\n",
            "[INFO]: /content/dl/data/train Video files taken apart! Images generated: 1388\n"
          ],
          "name": "stderr"
        }
      ]
    },
    {
      "cell_type": "markdown",
      "metadata": {
        "id": "hZKLSOa5hZvr",
        "colab_type": "text"
      },
      "source": [
        "Set variables for easier data access in later code."
      ]
    },
    {
      "cell_type": "code",
      "metadata": {
        "id": "2deWxsWNAJaI",
        "colab_type": "code",
        "outputId": "75b584f7-753b-46b7-d273-92f0b4911e78",
        "colab": {
          "base_uri": "https://localhost:8080/",
          "height": 67
        }
      },
      "source": [
        "train_x_dir = os.path.join(train_dir, 'orig')\n",
        "train_y_dir = os.path.join(train_dir, 'annot')\n",
        "valid_x_dir = os.path.join(valid_dir, 'orig')\n",
        "valid_y_dir = os.path.join(valid_dir, 'annot')\n",
        "test_x_dir = os.path.join(test_dir, 'orig')\n",
        "test_y_dir = os.path.join(test_dir, 'annot')\n",
        "\n",
        "train_cnt = len(glob.glob(os.path.join(train_x_dir, '*.png')))\n",
        "valid_cnt = len(glob.glob(os.path.join(valid_x_dir, '*.png')))\n",
        "test_cnt = len(glob.glob(os.path.join(test_x_dir, '*.png')))\n",
        "\n",
        "assert train_cnt == len(glob.glob(os.path.join(train_y_dir, '*.png')))\n",
        "assert valid_cnt == len(glob.glob(os.path.join(valid_y_dir, '*.png')))\n",
        "assert test_cnt == len(glob.glob(os.path.join(test_y_dir, '*.png')))\n",
        "\n",
        "print(f\"Train set count: {train_cnt}\")\n",
        "print(f\"Valid set count: {valid_cnt}\")\n",
        "print(f\"Test set count: {test_cnt}\")"
      ],
      "execution_count": 4,
      "outputs": [
        {
          "output_type": "stream",
          "text": [
            "Train set count: 1388\n",
            "Valid set count: 357\n",
            "Test set count: 568\n"
          ],
          "name": "stdout"
        }
      ]
    },
    {
      "cell_type": "markdown",
      "metadata": {
        "id": "R4q8WzXVMnjg",
        "colab_type": "text"
      },
      "source": [
        "# Model creation and training\n",
        "We define custom generators to create batches of learning data. Then we will create our model and initialize all necessary callbacks for efficient learning. Then we fit our generators until stop conditions are satisfied."
      ]
    },
    {
      "cell_type": "code",
      "metadata": {
        "id": "_ArakUnKYLaP",
        "colab_type": "code",
        "colab": {}
      },
      "source": [
        "def data_generator(batch_size, total_count, inputs_dir, outputs_dir):\n",
        "    while True:\n",
        "        # read batch size random indexed images\n",
        "        t_idxs = np.random.randint(0, total_count, batch_size)\n",
        "        x_shape = (batch_size, 120, 160, 3)\n",
        "        y_shape = (batch_size, 120, 160)\n",
        "        x = np.zeros(shape=x_shape, dtype=np.float32)\n",
        "        y = np.zeros(shape=y_shape, dtype=np.float32)\n",
        "\n",
        "        for i, idx in enumerate(t_idxs):\n",
        "            filename = f'{idx:06d}.png'\n",
        "            x[i] = cv2.imread(os.path.join(inputs_dir, filename))\n",
        "            y[i] = cv2.imread(os.path.join(outputs_dir, filename), cv2.IMREAD_GRAYSCALE) \n",
        "        \n",
        "        yield (x/255,y/255)\n",
        "\n",
        "steps_per_epoch = 20\n",
        "train_batch_size = int(train_cnt / steps_per_epoch)\n",
        "valid_batch_size = int(valid_cnt / steps_per_epoch)\n",
        "test_batch_size = int(test_cnt / steps_per_epoch)\n",
        "train_gen = data_generator(train_batch_size, train_cnt, train_x_dir, train_y_dir)\n",
        "valid_gen = data_generator(valid_batch_size, valid_cnt, valid_x_dir, valid_y_dir)\n",
        "test_gen = data_generator(test_batch_size, test_cnt, test_x_dir, test_y_dir)"
      ],
      "execution_count": 0,
      "outputs": []
    },
    {
      "cell_type": "markdown",
      "metadata": {
        "id": "R6DZjFweh7Vq",
        "colab_type": "text"
      },
      "source": [
        "Our model consists of an encoder half-network that is followed by a decoder half-network, with sigmoid activation applied to the combined output of the last decoder layer."
      ]
    },
    {
      "cell_type": "code",
      "metadata": {
        "id": "-B-MAfRi13ku",
        "colab_type": "code",
        "outputId": "031b96af-4845-40fb-afb2-e497f1d0d004",
        "colab": {
          "base_uri": "https://localhost:8080/",
          "height": 910
        }
      },
      "source": [
        "kernel_size = (6,8)\n",
        "filters = 64\n",
        "\n",
        "model = keras.models.Sequential()\n",
        "model.add(keras.layers.InputLayer(input_shape=(120, 160, 3)))    # RGB image goes in\n",
        "\n",
        "# ENCODER\n",
        "# --------------------\n",
        "for _ in range(3):\n",
        "    for _ in range(2):\n",
        "        model.add(keras.layers.Conv2D(filters=filters,\n",
        "                                        kernel_size=kernel_size,\n",
        "                                        strides=1,\n",
        "                                        padding='same',\n",
        "                                        use_bias=True,\n",
        "                                        bias_initializer=keras.initializers.constant(value=0.0)))\n",
        "        model.add(keras.layers.BatchNormalization())\n",
        "        model.add(keras.layers.ReLU())\n",
        "\n",
        "    model.add(keras.layers.MaxPool2D(pool_size=2, strides=2))\n",
        "    filters *= 2\n",
        "# --------------------\n",
        "\n",
        "# DECODER\n",
        "# --------------------\n",
        "for _ in range(3):\n",
        "    filters = round(filters/2)\n",
        "    model.add(keras.layers.UpSampling2D(size=2,\n",
        "                                        interpolation='nearest'))\n",
        "    for _ in range(2):\n",
        "        model.add(keras.layers.Conv2D(filters=filters,\n",
        "                                        kernel_size=kernel_size,\n",
        "                                        strides=1,\n",
        "                                        padding='same',\n",
        "                                        use_bias=True,\n",
        "                                        bias_initializer=keras.initializers.constant(value=0.0)))\n",
        "        model.add(keras.layers.BatchNormalization())       \n",
        "        model.add(keras.layers.ReLU())\n",
        "# --------------------\n",
        "\n",
        "model.add(keras.layers.Dense(units=1,\n",
        "                                activation='sigmoid',\n",
        "                                use_bias=True\n",
        "))\n",
        "model.add(keras.layers.Reshape((120,160)))"
      ],
      "execution_count": 6,
      "outputs": [
        {
          "output_type": "stream",
          "text": [
            "WARNING:tensorflow:From /usr/local/lib/python3.6/dist-packages/keras/backend/tensorflow_backend.py:66: The name tf.get_default_graph is deprecated. Please use tf.compat.v1.get_default_graph instead.\n",
            "\n"
          ],
          "name": "stdout"
        },
        {
          "output_type": "stream",
          "text": [
            "[WARNING]: From /usr/local/lib/python3.6/dist-packages/keras/backend/tensorflow_backend.py:66: The name tf.get_default_graph is deprecated. Please use tf.compat.v1.get_default_graph instead.\n",
            "\n"
          ],
          "name": "stderr"
        },
        {
          "output_type": "stream",
          "text": [
            "WARNING:tensorflow:From /usr/local/lib/python3.6/dist-packages/keras/backend/tensorflow_backend.py:541: The name tf.placeholder is deprecated. Please use tf.compat.v1.placeholder instead.\n",
            "\n"
          ],
          "name": "stdout"
        },
        {
          "output_type": "stream",
          "text": [
            "[WARNING]: From /usr/local/lib/python3.6/dist-packages/keras/backend/tensorflow_backend.py:541: The name tf.placeholder is deprecated. Please use tf.compat.v1.placeholder instead.\n",
            "\n"
          ],
          "name": "stderr"
        },
        {
          "output_type": "stream",
          "text": [
            "WARNING:tensorflow:From /usr/local/lib/python3.6/dist-packages/keras/backend/tensorflow_backend.py:4432: The name tf.random_uniform is deprecated. Please use tf.random.uniform instead.\n",
            "\n"
          ],
          "name": "stdout"
        },
        {
          "output_type": "stream",
          "text": [
            "[WARNING]: From /usr/local/lib/python3.6/dist-packages/keras/backend/tensorflow_backend.py:4432: The name tf.random_uniform is deprecated. Please use tf.random.uniform instead.\n",
            "\n"
          ],
          "name": "stderr"
        },
        {
          "output_type": "stream",
          "text": [
            "WARNING:tensorflow:From /usr/local/lib/python3.6/dist-packages/keras/backend/tensorflow_backend.py:190: The name tf.get_default_session is deprecated. Please use tf.compat.v1.get_default_session instead.\n",
            "\n"
          ],
          "name": "stdout"
        },
        {
          "output_type": "stream",
          "text": [
            "[WARNING]: From /usr/local/lib/python3.6/dist-packages/keras/backend/tensorflow_backend.py:190: The name tf.get_default_session is deprecated. Please use tf.compat.v1.get_default_session instead.\n",
            "\n"
          ],
          "name": "stderr"
        },
        {
          "output_type": "stream",
          "text": [
            "WARNING:tensorflow:From /usr/local/lib/python3.6/dist-packages/keras/backend/tensorflow_backend.py:197: The name tf.ConfigProto is deprecated. Please use tf.compat.v1.ConfigProto instead.\n",
            "\n"
          ],
          "name": "stdout"
        },
        {
          "output_type": "stream",
          "text": [
            "[WARNING]: From /usr/local/lib/python3.6/dist-packages/keras/backend/tensorflow_backend.py:197: The name tf.ConfigProto is deprecated. Please use tf.compat.v1.ConfigProto instead.\n",
            "\n"
          ],
          "name": "stderr"
        },
        {
          "output_type": "stream",
          "text": [
            "WARNING:tensorflow:From /usr/local/lib/python3.6/dist-packages/keras/backend/tensorflow_backend.py:203: The name tf.Session is deprecated. Please use tf.compat.v1.Session instead.\n",
            "\n"
          ],
          "name": "stdout"
        },
        {
          "output_type": "stream",
          "text": [
            "[WARNING]: From /usr/local/lib/python3.6/dist-packages/keras/backend/tensorflow_backend.py:203: The name tf.Session is deprecated. Please use tf.compat.v1.Session instead.\n",
            "\n"
          ],
          "name": "stderr"
        },
        {
          "output_type": "stream",
          "text": [
            "WARNING:tensorflow:From /usr/local/lib/python3.6/dist-packages/keras/backend/tensorflow_backend.py:207: The name tf.global_variables is deprecated. Please use tf.compat.v1.global_variables instead.\n",
            "\n"
          ],
          "name": "stdout"
        },
        {
          "output_type": "stream",
          "text": [
            "[WARNING]: From /usr/local/lib/python3.6/dist-packages/keras/backend/tensorflow_backend.py:207: The name tf.global_variables is deprecated. Please use tf.compat.v1.global_variables instead.\n",
            "\n"
          ],
          "name": "stderr"
        },
        {
          "output_type": "stream",
          "text": [
            "WARNING:tensorflow:From /usr/local/lib/python3.6/dist-packages/keras/backend/tensorflow_backend.py:216: The name tf.is_variable_initialized is deprecated. Please use tf.compat.v1.is_variable_initialized instead.\n",
            "\n"
          ],
          "name": "stdout"
        },
        {
          "output_type": "stream",
          "text": [
            "[WARNING]: From /usr/local/lib/python3.6/dist-packages/keras/backend/tensorflow_backend.py:216: The name tf.is_variable_initialized is deprecated. Please use tf.compat.v1.is_variable_initialized instead.\n",
            "\n"
          ],
          "name": "stderr"
        },
        {
          "output_type": "stream",
          "text": [
            "WARNING:tensorflow:From /usr/local/lib/python3.6/dist-packages/keras/backend/tensorflow_backend.py:223: The name tf.variables_initializer is deprecated. Please use tf.compat.v1.variables_initializer instead.\n",
            "\n"
          ],
          "name": "stdout"
        },
        {
          "output_type": "stream",
          "text": [
            "[WARNING]: From /usr/local/lib/python3.6/dist-packages/keras/backend/tensorflow_backend.py:223: The name tf.variables_initializer is deprecated. Please use tf.compat.v1.variables_initializer instead.\n",
            "\n"
          ],
          "name": "stderr"
        },
        {
          "output_type": "stream",
          "text": [
            "WARNING:tensorflow:From /usr/local/lib/python3.6/dist-packages/keras/backend/tensorflow_backend.py:2041: The name tf.nn.fused_batch_norm is deprecated. Please use tf.compat.v1.nn.fused_batch_norm instead.\n",
            "\n"
          ],
          "name": "stdout"
        },
        {
          "output_type": "stream",
          "text": [
            "[WARNING]: From /usr/local/lib/python3.6/dist-packages/keras/backend/tensorflow_backend.py:2041: The name tf.nn.fused_batch_norm is deprecated. Please use tf.compat.v1.nn.fused_batch_norm instead.\n",
            "\n"
          ],
          "name": "stderr"
        },
        {
          "output_type": "stream",
          "text": [
            "WARNING:tensorflow:From /usr/local/lib/python3.6/dist-packages/keras/backend/tensorflow_backend.py:148: The name tf.placeholder_with_default is deprecated. Please use tf.compat.v1.placeholder_with_default instead.\n",
            "\n"
          ],
          "name": "stdout"
        },
        {
          "output_type": "stream",
          "text": [
            "[WARNING]: From /usr/local/lib/python3.6/dist-packages/keras/backend/tensorflow_backend.py:148: The name tf.placeholder_with_default is deprecated. Please use tf.compat.v1.placeholder_with_default instead.\n",
            "\n"
          ],
          "name": "stderr"
        },
        {
          "output_type": "stream",
          "text": [
            "WARNING:tensorflow:From /usr/local/lib/python3.6/dist-packages/keras/backend/tensorflow_backend.py:4267: The name tf.nn.max_pool is deprecated. Please use tf.nn.max_pool2d instead.\n",
            "\n"
          ],
          "name": "stdout"
        },
        {
          "output_type": "stream",
          "text": [
            "[WARNING]: From /usr/local/lib/python3.6/dist-packages/keras/backend/tensorflow_backend.py:4267: The name tf.nn.max_pool is deprecated. Please use tf.nn.max_pool2d instead.\n",
            "\n"
          ],
          "name": "stderr"
        },
        {
          "output_type": "stream",
          "text": [
            "WARNING:tensorflow:From /usr/local/lib/python3.6/dist-packages/keras/backend/tensorflow_backend.py:2239: The name tf.image.resize_nearest_neighbor is deprecated. Please use tf.compat.v1.image.resize_nearest_neighbor instead.\n",
            "\n"
          ],
          "name": "stdout"
        },
        {
          "output_type": "stream",
          "text": [
            "[WARNING]: From /usr/local/lib/python3.6/dist-packages/keras/backend/tensorflow_backend.py:2239: The name tf.image.resize_nearest_neighbor is deprecated. Please use tf.compat.v1.image.resize_nearest_neighbor instead.\n",
            "\n"
          ],
          "name": "stderr"
        }
      ]
    },
    {
      "cell_type": "code",
      "metadata": {
        "id": "3kyoQEeeGUdm",
        "colab_type": "code",
        "outputId": "ca756cd9-03c7-468a-9eb0-2c236dddcd80",
        "colab": {
          "base_uri": "https://localhost:8080/",
          "height": 1000
        }
      },
      "source": [
        "model.compile(optimizer=keras.optimizers.Adam(lr=1e-3), loss=\"binary_crossentropy\", metrics=['acc'])\n",
        "model.summary()"
      ],
      "execution_count": 7,
      "outputs": [
        {
          "output_type": "stream",
          "text": [
            "WARNING:tensorflow:From /usr/local/lib/python3.6/dist-packages/keras/optimizers.py:793: The name tf.train.Optimizer is deprecated. Please use tf.compat.v1.train.Optimizer instead.\n",
            "\n"
          ],
          "name": "stdout"
        },
        {
          "output_type": "stream",
          "text": [
            "[WARNING]: From /usr/local/lib/python3.6/dist-packages/keras/optimizers.py:793: The name tf.train.Optimizer is deprecated. Please use tf.compat.v1.train.Optimizer instead.\n",
            "\n"
          ],
          "name": "stderr"
        },
        {
          "output_type": "stream",
          "text": [
            "WARNING:tensorflow:From /usr/local/lib/python3.6/dist-packages/keras/backend/tensorflow_backend.py:3657: The name tf.log is deprecated. Please use tf.math.log instead.\n",
            "\n"
          ],
          "name": "stdout"
        },
        {
          "output_type": "stream",
          "text": [
            "[WARNING]: From /usr/local/lib/python3.6/dist-packages/keras/backend/tensorflow_backend.py:3657: The name tf.log is deprecated. Please use tf.math.log instead.\n",
            "\n"
          ],
          "name": "stderr"
        },
        {
          "output_type": "stream",
          "text": [
            "WARNING:tensorflow:From /usr/local/lib/python3.6/dist-packages/tensorflow_core/python/ops/nn_impl.py:183: where (from tensorflow.python.ops.array_ops) is deprecated and will be removed in a future version.\n",
            "Instructions for updating:\n",
            "Use tf.where in 2.0, which has the same broadcast rule as np.where\n"
          ],
          "name": "stdout"
        },
        {
          "output_type": "stream",
          "text": [
            "[WARNING]: From /usr/local/lib/python3.6/dist-packages/tensorflow_core/python/ops/nn_impl.py:183: where (from tensorflow.python.ops.array_ops) is deprecated and will be removed in a future version.\n",
            "Instructions for updating:\n",
            "Use tf.where in 2.0, which has the same broadcast rule as np.where\n"
          ],
          "name": "stderr"
        },
        {
          "output_type": "stream",
          "text": [
            "Model: \"sequential_1\"\n",
            "_________________________________________________________________\n",
            "Layer (type)                 Output Shape              Param #   \n",
            "=================================================================\n",
            "conv2d_1 (Conv2D)            (None, 120, 160, 64)      9280      \n",
            "_________________________________________________________________\n",
            "batch_normalization_1 (Batch (None, 120, 160, 64)      256       \n",
            "_________________________________________________________________\n",
            "re_lu_1 (ReLU)               (None, 120, 160, 64)      0         \n",
            "_________________________________________________________________\n",
            "conv2d_2 (Conv2D)            (None, 120, 160, 64)      196672    \n",
            "_________________________________________________________________\n",
            "batch_normalization_2 (Batch (None, 120, 160, 64)      256       \n",
            "_________________________________________________________________\n",
            "re_lu_2 (ReLU)               (None, 120, 160, 64)      0         \n",
            "_________________________________________________________________\n",
            "max_pooling2d_1 (MaxPooling2 (None, 60, 80, 64)        0         \n",
            "_________________________________________________________________\n",
            "conv2d_3 (Conv2D)            (None, 60, 80, 128)       393344    \n",
            "_________________________________________________________________\n",
            "batch_normalization_3 (Batch (None, 60, 80, 128)       512       \n",
            "_________________________________________________________________\n",
            "re_lu_3 (ReLU)               (None, 60, 80, 128)       0         \n",
            "_________________________________________________________________\n",
            "conv2d_4 (Conv2D)            (None, 60, 80, 128)       786560    \n",
            "_________________________________________________________________\n",
            "batch_normalization_4 (Batch (None, 60, 80, 128)       512       \n",
            "_________________________________________________________________\n",
            "re_lu_4 (ReLU)               (None, 60, 80, 128)       0         \n",
            "_________________________________________________________________\n",
            "max_pooling2d_2 (MaxPooling2 (None, 30, 40, 128)       0         \n",
            "_________________________________________________________________\n",
            "conv2d_5 (Conv2D)            (None, 30, 40, 256)       1573120   \n",
            "_________________________________________________________________\n",
            "batch_normalization_5 (Batch (None, 30, 40, 256)       1024      \n",
            "_________________________________________________________________\n",
            "re_lu_5 (ReLU)               (None, 30, 40, 256)       0         \n",
            "_________________________________________________________________\n",
            "conv2d_6 (Conv2D)            (None, 30, 40, 256)       3145984   \n",
            "_________________________________________________________________\n",
            "batch_normalization_6 (Batch (None, 30, 40, 256)       1024      \n",
            "_________________________________________________________________\n",
            "re_lu_6 (ReLU)               (None, 30, 40, 256)       0         \n",
            "_________________________________________________________________\n",
            "max_pooling2d_3 (MaxPooling2 (None, 15, 20, 256)       0         \n",
            "_________________________________________________________________\n",
            "up_sampling2d_1 (UpSampling2 (None, 30, 40, 256)       0         \n",
            "_________________________________________________________________\n",
            "conv2d_7 (Conv2D)            (None, 30, 40, 256)       3145984   \n",
            "_________________________________________________________________\n",
            "batch_normalization_7 (Batch (None, 30, 40, 256)       1024      \n",
            "_________________________________________________________________\n",
            "re_lu_7 (ReLU)               (None, 30, 40, 256)       0         \n",
            "_________________________________________________________________\n",
            "conv2d_8 (Conv2D)            (None, 30, 40, 256)       3145984   \n",
            "_________________________________________________________________\n",
            "batch_normalization_8 (Batch (None, 30, 40, 256)       1024      \n",
            "_________________________________________________________________\n",
            "re_lu_8 (ReLU)               (None, 30, 40, 256)       0         \n",
            "_________________________________________________________________\n",
            "up_sampling2d_2 (UpSampling2 (None, 60, 80, 256)       0         \n",
            "_________________________________________________________________\n",
            "conv2d_9 (Conv2D)            (None, 60, 80, 128)       1572992   \n",
            "_________________________________________________________________\n",
            "batch_normalization_9 (Batch (None, 60, 80, 128)       512       \n",
            "_________________________________________________________________\n",
            "re_lu_9 (ReLU)               (None, 60, 80, 128)       0         \n",
            "_________________________________________________________________\n",
            "conv2d_10 (Conv2D)           (None, 60, 80, 128)       786560    \n",
            "_________________________________________________________________\n",
            "batch_normalization_10 (Batc (None, 60, 80, 128)       512       \n",
            "_________________________________________________________________\n",
            "re_lu_10 (ReLU)              (None, 60, 80, 128)       0         \n",
            "_________________________________________________________________\n",
            "up_sampling2d_3 (UpSampling2 (None, 120, 160, 128)     0         \n",
            "_________________________________________________________________\n",
            "conv2d_11 (Conv2D)           (None, 120, 160, 64)      393280    \n",
            "_________________________________________________________________\n",
            "batch_normalization_11 (Batc (None, 120, 160, 64)      256       \n",
            "_________________________________________________________________\n",
            "re_lu_11 (ReLU)              (None, 120, 160, 64)      0         \n",
            "_________________________________________________________________\n",
            "conv2d_12 (Conv2D)           (None, 120, 160, 64)      196672    \n",
            "_________________________________________________________________\n",
            "batch_normalization_12 (Batc (None, 120, 160, 64)      256       \n",
            "_________________________________________________________________\n",
            "re_lu_12 (ReLU)              (None, 120, 160, 64)      0         \n",
            "_________________________________________________________________\n",
            "dense_1 (Dense)              (None, 120, 160, 1)       65        \n",
            "_________________________________________________________________\n",
            "reshape_1 (Reshape)          (None, 120, 160)          0         \n",
            "=================================================================\n",
            "Total params: 15,353,665\n",
            "Trainable params: 15,350,081\n",
            "Non-trainable params: 3,584\n",
            "_________________________________________________________________\n"
          ],
          "name": "stdout"
        }
      ]
    },
    {
      "cell_type": "markdown",
      "metadata": {
        "id": "hV63ywTtiRtw",
        "colab_type": "text"
      },
      "source": [
        "As we see we have about 15M parameters and practically all of them are up for training. Now we should define our callbacks."
      ]
    },
    {
      "cell_type": "code",
      "metadata": {
        "id": "Uosw7LNAile3",
        "colab_type": "code",
        "colab": {}
      },
      "source": [
        "checkpoint_name = 'rightlane_segment.hdf5'\n",
        "callback_checkpoint = keras.callbacks.ModelCheckpoint(filepath=checkpoint_name,\n",
        "                                                          monitor='val_loss',\n",
        "                                                          verbose=1,\n",
        "                                                          save_weights_only=True,\n",
        "                                                          save_best_only=True)\n",
        "\n",
        "callback_early_stopping = keras.callbacks.EarlyStopping(monitor='val_loss',\n",
        "                                         patience=10, verbose=1)\n",
        "callback_reduce_lr = keras.callbacks.ReduceLROnPlateau(monitor='val_loss',\n",
        "                                                          factor=0.1,\n",
        "                                                          patience=7,\n",
        "                                                          verbose=1,\n",
        "                                                          min_rl=1e-5)"
      ],
      "execution_count": 0,
      "outputs": []
    },
    {
      "cell_type": "markdown",
      "metadata": {
        "id": "4sC931YtimVc",
        "colab_type": "text"
      },
      "source": [
        "We are ready for training! We apply our generator functions to the fit_generator function of our model."
      ]
    },
    {
      "cell_type": "code",
      "metadata": {
        "id": "9LKzNHRnzFvR",
        "colab_type": "code",
        "outputId": "12d491a7-21d5-4fd4-bbba-21f38ae8107a",
        "colab": {
          "base_uri": "https://localhost:8080/",
          "height": 1000
        }
      },
      "source": [
        "model.fit_generator(\n",
        "    generator=train_gen,\n",
        "    steps_per_epoch=steps_per_epoch,\n",
        "    epochs=50,\n",
        "    verbose=1,\n",
        "    validation_data=valid_gen,\n",
        "    validation_steps=steps_per_epoch,\n",
        "    callbacks=[callback_checkpoint, callback_reduce_lr, callback_early_stopping]\n",
        ")"
      ],
      "execution_count": 9,
      "outputs": [
        {
          "output_type": "stream",
          "text": [
            "WARNING:tensorflow:From /usr/local/lib/python3.6/dist-packages/keras/backend/tensorflow_backend.py:1033: The name tf.assign_add is deprecated. Please use tf.compat.v1.assign_add instead.\n",
            "\n"
          ],
          "name": "stdout"
        },
        {
          "output_type": "stream",
          "text": [
            "[WARNING]: From /usr/local/lib/python3.6/dist-packages/keras/backend/tensorflow_backend.py:1033: The name tf.assign_add is deprecated. Please use tf.compat.v1.assign_add instead.\n",
            "\n"
          ],
          "name": "stderr"
        },
        {
          "output_type": "stream",
          "text": [
            "WARNING:tensorflow:From /usr/local/lib/python3.6/dist-packages/keras/backend/tensorflow_backend.py:1020: The name tf.assign is deprecated. Please use tf.compat.v1.assign instead.\n",
            "\n"
          ],
          "name": "stdout"
        },
        {
          "output_type": "stream",
          "text": [
            "[WARNING]: From /usr/local/lib/python3.6/dist-packages/keras/backend/tensorflow_backend.py:1020: The name tf.assign is deprecated. Please use tf.compat.v1.assign instead.\n",
            "\n"
          ],
          "name": "stderr"
        },
        {
          "output_type": "stream",
          "text": [
            "Epoch 1/50\n",
            "20/20 [==============================] - 40s 2s/step - loss: 0.6241 - acc: 0.6774 - val_loss: 2.3270 - val_acc: 0.7719\n",
            "\n",
            "Epoch 00001: val_loss improved from inf to 2.32704, saving model to rightlane_segment.hdf5\n",
            "Epoch 2/50\n",
            "20/20 [==============================] - 26s 1s/step - loss: 0.2957 - acc: 0.8811 - val_loss: 0.7206 - val_acc: 0.7356\n",
            "\n",
            "Epoch 00002: val_loss improved from 2.32704 to 0.72060, saving model to rightlane_segment.hdf5\n",
            "Epoch 3/50\n",
            "20/20 [==============================] - 26s 1s/step - loss: 0.2022 - acc: 0.9226 - val_loss: 0.6308 - val_acc: 0.7827\n",
            "\n",
            "Epoch 00003: val_loss improved from 0.72060 to 0.63082, saving model to rightlane_segment.hdf5\n",
            "Epoch 4/50\n",
            "20/20 [==============================] - 26s 1s/step - loss: 0.1518 - acc: 0.9413 - val_loss: 0.3941 - val_acc: 0.8643\n",
            "\n",
            "Epoch 00004: val_loss improved from 0.63082 to 0.39405, saving model to rightlane_segment.hdf5\n",
            "Epoch 5/50\n",
            "20/20 [==============================] - 26s 1s/step - loss: 0.1220 - acc: 0.9542 - val_loss: 0.4392 - val_acc: 0.8514\n",
            "\n",
            "Epoch 00005: val_loss did not improve from 0.39405\n",
            "Epoch 6/50\n",
            "20/20 [==============================] - 26s 1s/step - loss: 0.1127 - acc: 0.9555 - val_loss: 0.9408 - val_acc: 0.7445\n",
            "\n",
            "Epoch 00006: val_loss did not improve from 0.39405\n",
            "Epoch 7/50\n",
            "20/20 [==============================] - 26s 1s/step - loss: 0.0849 - acc: 0.9667 - val_loss: 0.2119 - val_acc: 0.9275\n",
            "\n",
            "Epoch 00007: val_loss improved from 0.39405 to 0.21193, saving model to rightlane_segment.hdf5\n",
            "Epoch 8/50\n",
            "20/20 [==============================] - 26s 1s/step - loss: 0.0822 - acc: 0.9666 - val_loss: 0.2573 - val_acc: 0.9120\n",
            "\n",
            "Epoch 00008: val_loss did not improve from 0.21193\n",
            "Epoch 9/50\n",
            "20/20 [==============================] - 26s 1s/step - loss: 0.0643 - acc: 0.9739 - val_loss: 0.2261 - val_acc: 0.9180\n",
            "\n",
            "Epoch 00009: val_loss did not improve from 0.21193\n",
            "Epoch 10/50\n",
            "20/20 [==============================] - 26s 1s/step - loss: 0.0681 - acc: 0.9713 - val_loss: 0.1655 - val_acc: 0.9346\n",
            "\n",
            "Epoch 00010: val_loss improved from 0.21193 to 0.16552, saving model to rightlane_segment.hdf5\n",
            "Epoch 11/50\n",
            "20/20 [==============================] - 26s 1s/step - loss: 0.0536 - acc: 0.9773 - val_loss: 0.2494 - val_acc: 0.9050\n",
            "\n",
            "Epoch 00011: val_loss did not improve from 0.16552\n",
            "Epoch 12/50\n",
            "20/20 [==============================] - 26s 1s/step - loss: 0.0442 - acc: 0.9811 - val_loss: 0.1278 - val_acc: 0.9507\n",
            "\n",
            "Epoch 00012: val_loss improved from 0.16552 to 0.12777, saving model to rightlane_segment.hdf5\n",
            "Epoch 13/50\n",
            "20/20 [==============================] - 26s 1s/step - loss: 0.0529 - acc: 0.9764 - val_loss: 0.3003 - val_acc: 0.8955\n",
            "\n",
            "Epoch 00013: val_loss did not improve from 0.12777\n",
            "Epoch 14/50\n",
            "20/20 [==============================] - 26s 1s/step - loss: 0.0449 - acc: 0.9802 - val_loss: 0.3491 - val_acc: 0.8895\n",
            "\n",
            "Epoch 00014: val_loss did not improve from 0.12777\n",
            "Epoch 15/50\n",
            "20/20 [==============================] - 26s 1s/step - loss: 0.0401 - acc: 0.9817 - val_loss: 0.1977 - val_acc: 0.9306\n",
            "\n",
            "Epoch 00015: val_loss did not improve from 0.12777\n",
            "Epoch 16/50\n",
            "20/20 [==============================] - 26s 1s/step - loss: 0.0416 - acc: 0.9812 - val_loss: 0.2274 - val_acc: 0.9288\n",
            "\n",
            "Epoch 00016: val_loss did not improve from 0.12777\n",
            "Epoch 17/50\n",
            "20/20 [==============================] - 26s 1s/step - loss: 0.0411 - acc: 0.9811 - val_loss: 0.1796 - val_acc: 0.9340\n",
            "\n",
            "Epoch 00017: val_loss did not improve from 0.12777\n",
            "Epoch 18/50\n",
            "20/20 [==============================] - 26s 1s/step - loss: 0.0341 - acc: 0.9841 - val_loss: 0.1081 - val_acc: 0.9652\n",
            "\n",
            "Epoch 00018: val_loss improved from 0.12777 to 0.10811, saving model to rightlane_segment.hdf5\n",
            "Epoch 19/50\n",
            "20/20 [==============================] - 26s 1s/step - loss: 0.0300 - acc: 0.9858 - val_loss: 0.0851 - val_acc: 0.9681\n",
            "\n",
            "Epoch 00019: val_loss improved from 0.10811 to 0.08508, saving model to rightlane_segment.hdf5\n",
            "Epoch 20/50\n",
            "20/20 [==============================] - 26s 1s/step - loss: 0.0345 - acc: 0.9841 - val_loss: 0.3124 - val_acc: 0.9144\n",
            "\n",
            "Epoch 00020: val_loss did not improve from 0.08508\n",
            "Epoch 21/50\n",
            "20/20 [==============================] - 26s 1s/step - loss: 0.0295 - acc: 0.9859 - val_loss: 0.0606 - val_acc: 0.9761\n",
            "\n",
            "Epoch 00021: val_loss improved from 0.08508 to 0.06064, saving model to rightlane_segment.hdf5\n",
            "Epoch 22/50\n",
            "20/20 [==============================] - 26s 1s/step - loss: 0.0299 - acc: 0.9858 - val_loss: 0.0673 - val_acc: 0.9742\n",
            "\n",
            "Epoch 00022: val_loss did not improve from 0.06064\n",
            "Epoch 23/50\n",
            "20/20 [==============================] - 26s 1s/step - loss: 0.0274 - acc: 0.9867 - val_loss: 0.0661 - val_acc: 0.9752\n",
            "\n",
            "Epoch 00023: val_loss did not improve from 0.06064\n",
            "Epoch 24/50\n",
            "20/20 [==============================] - 26s 1s/step - loss: 0.0250 - acc: 0.9877 - val_loss: 0.0869 - val_acc: 0.9702\n",
            "\n",
            "Epoch 00024: val_loss did not improve from 0.06064\n",
            "Epoch 25/50\n",
            "20/20 [==============================] - 26s 1s/step - loss: 0.0253 - acc: 0.9875 - val_loss: 0.0702 - val_acc: 0.9737\n",
            "\n",
            "Epoch 00025: val_loss did not improve from 0.06064\n",
            "Epoch 26/50\n",
            "20/20 [==============================] - 26s 1s/step - loss: 0.0276 - acc: 0.9865 - val_loss: 0.0626 - val_acc: 0.9777\n",
            "\n",
            "Epoch 00026: val_loss did not improve from 0.06064\n",
            "Epoch 27/50\n",
            "20/20 [==============================] - 26s 1s/step - loss: 0.0224 - acc: 0.9887 - val_loss: 0.0599 - val_acc: 0.9770\n",
            "\n",
            "Epoch 00027: val_loss improved from 0.06064 to 0.05992, saving model to rightlane_segment.hdf5\n",
            "Epoch 28/50\n",
            "20/20 [==============================] - 26s 1s/step - loss: 0.0236 - acc: 0.9881 - val_loss: 0.0589 - val_acc: 0.9801\n",
            "\n",
            "Epoch 00028: val_loss improved from 0.05992 to 0.05892, saving model to rightlane_segment.hdf5\n",
            "Epoch 29/50\n",
            "20/20 [==============================] - 26s 1s/step - loss: 0.0210 - acc: 0.9894 - val_loss: 0.0633 - val_acc: 0.9778\n",
            "\n",
            "Epoch 00029: val_loss did not improve from 0.05892\n",
            "Epoch 30/50\n",
            "20/20 [==============================] - 26s 1s/step - loss: 0.0226 - acc: 0.9887 - val_loss: 0.0687 - val_acc: 0.9760\n",
            "\n",
            "Epoch 00030: val_loss did not improve from 0.05892\n",
            "Epoch 31/50\n",
            "20/20 [==============================] - 26s 1s/step - loss: 0.0203 - acc: 0.9896 - val_loss: 0.0570 - val_acc: 0.9789\n",
            "\n",
            "Epoch 00031: val_loss improved from 0.05892 to 0.05704, saving model to rightlane_segment.hdf5\n",
            "Epoch 32/50\n",
            "20/20 [==============================] - 26s 1s/step - loss: 0.0194 - acc: 0.9900 - val_loss: 0.0594 - val_acc: 0.9785\n",
            "\n",
            "Epoch 00032: val_loss did not improve from 0.05704\n",
            "Epoch 33/50\n",
            "20/20 [==============================] - 26s 1s/step - loss: 0.0186 - acc: 0.9902 - val_loss: 0.0650 - val_acc: 0.9752\n",
            "\n",
            "Epoch 00033: val_loss did not improve from 0.05704\n",
            "Epoch 34/50\n",
            "20/20 [==============================] - 26s 1s/step - loss: 0.0167 - acc: 0.9911 - val_loss: 0.0884 - val_acc: 0.9707\n",
            "\n",
            "Epoch 00034: val_loss did not improve from 0.05704\n",
            "Epoch 35/50\n",
            "20/20 [==============================] - 26s 1s/step - loss: 0.0187 - acc: 0.9901 - val_loss: 0.0541 - val_acc: 0.9816\n",
            "\n",
            "Epoch 00035: val_loss improved from 0.05704 to 0.05408, saving model to rightlane_segment.hdf5\n",
            "Epoch 36/50\n",
            "20/20 [==============================] - 26s 1s/step - loss: 0.0187 - acc: 0.9901 - val_loss: 0.0781 - val_acc: 0.9745\n",
            "\n",
            "Epoch 00036: val_loss did not improve from 0.05408\n",
            "Epoch 37/50\n",
            "20/20 [==============================] - 26s 1s/step - loss: 0.0179 - acc: 0.9904 - val_loss: 0.0628 - val_acc: 0.9797\n",
            "\n",
            "Epoch 00037: val_loss did not improve from 0.05408\n",
            "Epoch 38/50\n",
            "20/20 [==============================] - 26s 1s/step - loss: 0.0201 - acc: 0.9895 - val_loss: 0.0694 - val_acc: 0.9765\n",
            "\n",
            "Epoch 00038: val_loss did not improve from 0.05408\n",
            "Epoch 39/50\n",
            "20/20 [==============================] - 26s 1s/step - loss: 0.0182 - acc: 0.9903 - val_loss: 0.0637 - val_acc: 0.9797\n",
            "\n",
            "Epoch 00039: val_loss did not improve from 0.05408\n",
            "Epoch 40/50\n",
            "20/20 [==============================] - 26s 1s/step - loss: 0.0166 - acc: 0.9910 - val_loss: 0.0928 - val_acc: 0.9719\n",
            "\n",
            "Epoch 00040: val_loss did not improve from 0.05408\n",
            "Epoch 41/50\n",
            "20/20 [==============================] - 26s 1s/step - loss: 0.0156 - acc: 0.9915 - val_loss: 0.0617 - val_acc: 0.9794\n",
            "\n",
            "Epoch 00041: val_loss did not improve from 0.05408\n",
            "Epoch 42/50\n",
            "20/20 [==============================] - 26s 1s/step - loss: 0.0158 - acc: 0.9913 - val_loss: 0.0619 - val_acc: 0.9809\n",
            "\n",
            "Epoch 00042: val_loss did not improve from 0.05408\n",
            "\n",
            "Epoch 00042: ReduceLROnPlateau reducing learning rate to 0.00010000000474974513.\n",
            "Epoch 43/50\n",
            "20/20 [==============================] - 26s 1s/step - loss: 0.0141 - acc: 0.9921 - val_loss: 0.0587 - val_acc: 0.9816\n",
            "\n",
            "Epoch 00043: val_loss did not improve from 0.05408\n",
            "Epoch 44/50\n",
            "20/20 [==============================] - 26s 1s/step - loss: 0.0128 - acc: 0.9928 - val_loss: 0.0611 - val_acc: 0.9799\n",
            "\n",
            "Epoch 00044: val_loss did not improve from 0.05408\n",
            "Epoch 45/50\n",
            "20/20 [==============================] - 26s 1s/step - loss: 0.0124 - acc: 0.9930 - val_loss: 0.0565 - val_acc: 0.9814\n",
            "\n",
            "Epoch 00045: val_loss did not improve from 0.05408\n",
            "Epoch 00045: early stopping\n"
          ],
          "name": "stdout"
        },
        {
          "output_type": "execute_result",
          "data": {
            "text/plain": [
              "<keras.callbacks.History at 0x7fee8c1795f8>"
            ]
          },
          "metadata": {
            "tags": []
          },
          "execution_count": 9
        }
      ]
    },
    {
      "cell_type": "markdown",
      "metadata": {
        "id": "uM3ghh_kjHce",
        "colab_type": "text"
      },
      "source": [
        "It looks as our model was able to learn and since we are satisfied with the resultant metrics we will reload our last checkpoint."
      ]
    },
    {
      "cell_type": "code",
      "metadata": {
        "id": "MhdN9HK5jgdo",
        "colab_type": "code",
        "outputId": "b0046db1-4e43-45e4-9c5f-1407797fc32a",
        "colab": {
          "base_uri": "https://localhost:8080/",
          "height": 50
        }
      },
      "source": [
        "# load best model\n",
        "try:\n",
        "    model.load_weights(path_checkpoint)\n",
        "except Exception as error:\n",
        "    print(\"Error trying to load checkpoint.\")\n",
        "    print(error)"
      ],
      "execution_count": 10,
      "outputs": [
        {
          "output_type": "stream",
          "text": [
            "Error trying to load checkpoint.\n",
            "name 'path_checkpoint' is not defined\n"
          ],
          "name": "stdout"
        }
      ]
    },
    {
      "cell_type": "markdown",
      "metadata": {
        "id": "-gV9Gp4eM89O",
        "colab_type": "text"
      },
      "source": [
        "# Evaluation\n",
        "We will take a couple of samples from test data and evaluate our algorithm on those unseen pictures. This will allow us to analize the generalization of our model."
      ]
    },
    {
      "cell_type": "code",
      "metadata": {
        "id": "YQmG5y-wN-vb",
        "colab_type": "code",
        "colab": {}
      },
      "source": [
        "from google.colab.patches import cv2_imshow\n",
        "\n",
        "def predict(num):\n",
        "    x, y = next(test_gen)\n",
        "    x = x[:num]\n",
        "    y = y[:num]\n",
        "    p = [model.predict(np.expand_dims(x[i], axis=0))[0] for i in range(len(x))]\n",
        "    for r in range(len(x)):\n",
        "        a = np.array(x[r])*255\n",
        "        b = np.zeros(shape=x[r].shape)\n",
        "        c = np.zeros(shape=x[r].shape)\n",
        "        for i in range(120):\n",
        "            for j in range(160):\n",
        "                b[i,j,0] = y[r][i,j]\n",
        "                b[i,j,1] = y[r][i,j]\n",
        "                b[i,j,2] = y[r][i,j]\n",
        "                c[i,j,0] = p[r][i,j]\n",
        "                c[i,j,1] = p[r][i,j]\n",
        "                c[i,j,2] = p[r][i,j]\n",
        "        b = b*255\n",
        "        c = c*255\n",
        "        img = np.concatenate((a, b, c), axis=1)\n",
        "        cv2_imshow(img)"
      ],
      "execution_count": 0,
      "outputs": []
    },
    {
      "cell_type": "code",
      "metadata": {
        "id": "1rvFlrJR-PNa",
        "colab_type": "code",
        "outputId": "b83029f0-1a9c-4c26-ef1d-0c90b4a05f75",
        "colab": {
          "base_uri": "https://localhost:8080/",
          "height": 617
        }
      },
      "source": [
        "predict(5)"
      ],
      "execution_count": 12,
      "outputs": [
        {
          "output_type": "display_data",
          "data": {
            "image/png": "[encoded data removed]",
            "text/plain": [
              "<PIL.Image.Image image mode=RGB size=480x120 at 0x7FEE29652FD0>"
            ]
          },
          "metadata": {
            "tags": []
          }
        },
        {
          "output_type": "display_data",
          "data": {
            "image/png": "[encoded data removed]",
            "text/plain": [
              "<PIL.Image.Image image mode=RGB size=480x120 at 0x7FEE29652DD8>"
            ]
          },
          "metadata": {
            "tags": []
          }
        },
        {
          "output_type": "display_data",
          "data": {
            "image/png": "[encoded data removed]",
            "text/plain": [
              "<PIL.Image.Image image mode=RGB size=480x120 at 0x7FEE29652FD0>"
            ]
          },
          "metadata": {
            "tags": []
          }
        },
        {
          "output_type": "display_data",
          "data": {
            "image/png": "[encoded data removed]",
            "text/plain": [
              "<PIL.Image.Image image mode=RGB size=480x120 at 0x7FEE29652DD8>"
            ]
          },
          "metadata": {
            "tags": []
          }
        },
        {
          "output_type": "display_data",
          "data": {
            "image/png": "[encoded data removed]",
            "text/plain": [
              "<PIL.Image.Image image mode=RGB size=480x120 at 0x7FEE29652FD0>"
            ]
          },
          "metadata": {
            "tags": []
          }
        }
      ]
    },
    {
      "cell_type": "markdown",
      "metadata": {
        "id": "SmNs2Nnejcqp",
        "colab_type": "text"
      },
      "source": [
        "It looks as our model was able to predict quite correctly the right lane in the simulated environment. Some noises appear at some point but overall the accuracy is adequate."
      ]
    }
  ]
}