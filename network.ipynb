{
  "nbformat": 4,
  "nbformat_minor": 0,
  "metadata": {
    "colab": {
      "name": "my_dl_hf.ipynb",
      "provenance": [],
      "collapsed_sections": []
    },
    "kernelspec": {
      "name": "python3",
      "display_name": "Python 3"
    },
    "accelerator": "GPU"
  },
  "cells": [
    {
      "cell_type": "markdown",
      "metadata": {
        "id": "Wx2p845hv00F",
        "colab_type": "text"
      },
      "source": [
        "# Data preparation\n",
        "Takes the videos, both annotated and original ones and takes each frame apart for learning on individual images."
      ]
    },
    {
      "cell_type": "code",
      "metadata": {
        "id": "hT1NMC_QyUgM",
        "colab_type": "code",
        "outputId": "8271a0a1-108d-4cb0-90cf-2abc6bdd6006",
        "colab": {
          "base_uri": "https://localhost:8080/",
          "height": 134
        }
      },
      "source": [
        "!git clone https://github.com/DeepTesla/deep_learning_hf dl\n",
        "%cd dl"
      ],
      "execution_count": 1,
      "outputs": [
        {
          "output_type": "stream",
          "text": [
            "Cloning into 'dl'...\n",
            "remote: Enumerating objects: 358, done.\u001b[K\n",
            "remote: Total 358 (delta 0), reused 0 (delta 0), pack-reused 358\u001b[K\n",
            "Receiving objects: 100% (358/358), 630.25 MiB | 29.22 MiB/s, done.\n",
            "Resolving deltas: 100% (86/86), done.\n",
            "Checking out files: 100% (47/47), done.\n",
            "/content/dl\n"
          ],
          "name": "stdout"
        }
      ]
    },
    {
      "cell_type": "code",
      "metadata": {
        "id": "mDVNTCbiyway",
        "colab_type": "code",
        "outputId": "04e3b992-13b6-46ca-ff83-f232f301d64b",
        "colab": {
          "base_uri": "https://localhost:8080/",
          "height": 96
        }
      },
      "source": [
        "# import required libraries\n",
        "import cv2\n",
        "import os\n",
        "import glob\n",
        "import logging\n",
        "import concurrent.futures\n",
        "import numpy as np\n",
        "import keras\n",
        "\n",
        "# Set random seeds\n",
        "np.random.seed(2019)\n",
        "from tensorflow import set_random_seed\n",
        "set_random_seed(1118)\n",
        "\n",
        "keras.__version__"
      ],
      "execution_count": 2,
      "outputs": [
        {
          "output_type": "stream",
          "text": [
            "Using TensorFlow backend.\n"
          ],
          "name": "stderr"
        },
        {
          "output_type": "display_data",
          "data": {
            "text/html": [
              "<p style=\"color: red;\">\n",
              "The default version of TensorFlow in Colab will soon switch to TensorFlow 2.x.<br>\n",
              "We recommend you <a href=\"https://www.tensorflow.org/guide/migrate\" target=\"_blank\">upgrade</a> now \n",
              "or ensure your notebook will continue to use TensorFlow 1.x via the <code>%tensorflow_version 1.x</code> magic:\n",
              "<a href=\"https://colab.research.google.com/notebooks/tensorflow_version.ipynb\" target=\"_blank\">more info</a>.</p>\n"
            ],
            "text/plain": [
              "<IPython.core.display.HTML object>"
            ]
          },
          "metadata": {
            "tags": []
          }
        },
        {
          "output_type": "execute_result",
          "data": {
            "text/plain": [
              "'2.2.5'"
            ]
          },
          "metadata": {
            "tags": []
          },
          "execution_count": 2
        }
      ]
    },
    {
      "cell_type": "markdown",
      "metadata": {
        "id": "4rxGWCP0g9Yp",
        "colab_type": "text"
      },
      "source": [
        "The below code iterates through all the videos in a directory and cuts them into single images. To fasten up this process multithreading was applied."
      ]
    },
    {
      "cell_type": "code",
      "metadata": {
        "id": "jRXEDPzg6NFB",
        "colab_type": "code",
        "outputId": "63dafe55-b8c2-4cc2-b94a-4fcf7145dec1",
        "colab": {
          "base_uri": "https://localhost:8080/",
          "height": 168
        }
      },
      "source": [
        "logging.basicConfig(level=logging.INFO, format='[%(levelname)s]: %(message)s')\n",
        "\n",
        "train_dir = os.path.join(os.getcwd(), 'data', \"train\")\n",
        "valid_dir = os.path.join(os.getcwd(), 'data', \"validation\")\n",
        "test_dir = os.path.join(os.getcwd(), 'data', \"test\")\n",
        "dirs = [train_dir, valid_dir, test_dir]\n",
        "\n",
        "new_res = (160, 120)\n",
        "\n",
        "def video2images(directory):\n",
        "    logging.info(f\"Managing directory: {directory}\")\n",
        "\n",
        "    # Get the list of available recordings\n",
        "    annot_vids = sorted(glob.glob(os.path.join(directory, '*_annot_pp.avi')))\n",
        "    orig_vids = sorted(glob.glob(os.path.join(directory, '*_orig_pp.avi')))\n",
        "\n",
        "    # Check whether original and annotated recordings number match or not\n",
        "    assert len(annot_vids) == len(orig_vids)\n",
        "    \n",
        "    logging.info(f\"{directory} Number of files found: {len(annot_vids)}. Taking apart video files...\")\n",
        "\n",
        "    os.makedirs(os.path.join(directory, 'orig'))\n",
        "    os.makedirs(os.path.join(directory, 'annot'))\n",
        "\n",
        "    img_counter = 0\n",
        "    vid_counter = 0\n",
        "    # Iterate and postprocess every recording\n",
        "    for vid_a, vid_o in zip(annot_vids, orig_vids):\n",
        "\n",
        "        # Open recordings...\n",
        "        cap_orig = cv2.VideoCapture(vid_o)\n",
        "        cap_annot = cv2.VideoCapture(vid_a)\n",
        "        if not cap_orig.isOpened() or not cap_annot.isOpened():\n",
        "            logging.warning(f\"{directory} Could not open file nr. {vid_counter}! Continuing...\", )\n",
        "            continue\n",
        "        \n",
        "        # Check whether recordings hold the same number of frames\n",
        "        if cap_orig.get(cv2.CAP_PROP_FRAME_COUNT) != cap_annot.get(cv2.CAP_PROP_FRAME_COUNT):\n",
        "            logging.warning(f\"{directory} Different video length encountered in video nr. {vid_counter}! Continuing...\")\n",
        "            continue\n",
        "        \n",
        "        \n",
        "        # Produce output videos\n",
        "        logging.debug(f\"{directory} Processing recording nr. {vid_counter}...\")\n",
        "        while cap_orig.isOpened() and cap_annot.isOpened(): # Iterate through every frame\n",
        "            ret_o, frame_o = cap_orig.read()\n",
        "            ret_a, frame_a = cap_annot.read()\n",
        "            if not ret_o or not ret_a:\n",
        "                break\n",
        "\n",
        "            frame_o = cv2.resize(frame_o, new_res)\n",
        "            frame_a = cv2.cvtColor(frame_a, cv2.COLOR_BGR2GRAY)\n",
        "            frame_a = cv2.resize(frame_a, new_res)\n",
        "\n",
        "            filename = str(img_counter).zfill(6) + '.png'\n",
        "            filepath_o = os.path.join(directory, 'orig', filename)\n",
        "            filepath_a = os.path.join(directory, 'annot', filename)\n",
        "            # Save both frames in new file\n",
        "            cv2.imwrite(filepath_o, frame_o)\n",
        "            cv2.imwrite(filepath_a, frame_a)\n",
        "\n",
        "            img_counter += 1\n",
        "\n",
        "        \n",
        "        logging.debug(f\"{directory} Processing of recording nr. {vid_counter} done.\")\n",
        "        vid_counter += 1\n",
        "        \n",
        "        # Release VideoCapture resources\n",
        "        cap_orig.release()\n",
        "        cap_annot.release()\n",
        "\n",
        "        os.remove(vid_a)\n",
        "        os.remove(vid_o)\n",
        "\n",
        "    logging.info(f\"{directory} Video files taken apart! Images generated: {img_counter}\")\n",
        "\n",
        "with concurrent.futures.ThreadPoolExecutor() as executor:\n",
        "    futures_of_images = [executor.submit(video2images, directory) for directory in dirs]\n",
        "    \n",
        "    concurrent.futures.wait(futures_of_images)"
      ],
      "execution_count": 3,
      "outputs": [
        {
          "output_type": "stream",
          "text": [
            "[INFO]: Managing directory: /content/dl/data/train\n",
            "[INFO]: /content/dl/data/train Number of files found: 9. Taking apart video files...\n",
            "[INFO]: Managing directory: /content/dl/data/validation\n",
            "[INFO]: /content/dl/data/validation Number of files found: 2. Taking apart video files...\n",
            "[INFO]: Managing directory: /content/dl/data/test\n",
            "[INFO]: /content/dl/data/test Number of files found: 3. Taking apart video files...\n",
            "[INFO]: /content/dl/data/validation Video files taken apart! Images generated: 357\n",
            "[INFO]: /content/dl/data/test Video files taken apart! Images generated: 568\n",
            "[INFO]: /content/dl/data/train Video files taken apart! Images generated: 1388\n"
          ],
          "name": "stderr"
        }
      ]
    },
    {
      "cell_type": "markdown",
      "metadata": {
        "id": "hZKLSOa5hZvr",
        "colab_type": "text"
      },
      "source": [
        "Set variables for easier data access in later code."
      ]
    },
    {
      "cell_type": "code",
      "metadata": {
        "id": "2deWxsWNAJaI",
        "colab_type": "code",
        "outputId": "067cc14a-9119-43b1-f4e9-e22b01e5d78a",
        "colab": {
          "base_uri": "https://localhost:8080/",
          "height": 67
        }
      },
      "source": [
        "train_x_dir = os.path.join(train_dir, 'orig')\n",
        "train_y_dir = os.path.join(train_dir, 'annot')\n",
        "valid_x_dir = os.path.join(valid_dir, 'orig')\n",
        "valid_y_dir = os.path.join(valid_dir, 'annot')\n",
        "test_x_dir = os.path.join(test_dir, 'orig')\n",
        "test_y_dir = os.path.join(test_dir, 'annot')\n",
        "\n",
        "train_cnt = len(glob.glob(os.path.join(train_x_dir, '*.png')))\n",
        "valid_cnt = len(glob.glob(os.path.join(valid_x_dir, '*.png')))\n",
        "test_cnt = len(glob.glob(os.path.join(test_x_dir, '*.png')))\n",
        "\n",
        "assert train_cnt == len(glob.glob(os.path.join(train_y_dir, '*.png')))\n",
        "assert valid_cnt == len(glob.glob(os.path.join(valid_y_dir, '*.png')))\n",
        "assert test_cnt == len(glob.glob(os.path.join(test_y_dir, '*.png')))\n",
        "\n",
        "print(f\"Train set count: {train_cnt}\")\n",
        "print(f\"Valid set count: {valid_cnt}\")\n",
        "print(f\"Test set count: {test_cnt}\")"
      ],
      "execution_count": 4,
      "outputs": [
        {
          "output_type": "stream",
          "text": [
            "Train set count: 1388\n",
            "Valid set count: 357\n",
            "Test set count: 568\n"
          ],
          "name": "stdout"
        }
      ]
    },
    {
      "cell_type": "markdown",
      "metadata": {
        "id": "R4q8WzXVMnjg",
        "colab_type": "text"
      },
      "source": [
        "# Model creation and training\n",
        "We define custom generators to create batches of learning data. Then we will create our model and initialize all necessary callbacks for efficient learning. Then we fit our generators until stop conditions are satisfied."
      ]
    },
    {
      "cell_type": "code",
      "metadata": {
        "id": "_ArakUnKYLaP",
        "colab_type": "code",
        "colab": {}
      },
      "source": [
        "def data_generator(batch_size, total_count, inputs_dir, outputs_dir):\n",
        "    while True:\n",
        "        # read batch size random indexed images\n",
        "        t_idxs = np.random.randint(0, total_count, batch_size)\n",
        "        x_shape = (batch_size, 120, 160, 3)\n",
        "        y_shape = (batch_size, 120, 160)\n",
        "        x = np.zeros(shape=x_shape, dtype=np.float32)\n",
        "        y = np.zeros(shape=y_shape, dtype=np.float32)\n",
        "\n",
        "        for i, idx in enumerate(t_idxs):\n",
        "            filename = f'{idx:06d}.png'\n",
        "            x[i] = cv2.imread(os.path.join(inputs_dir, filename))\n",
        "            y[i] = cv2.imread(os.path.join(outputs_dir, filename), cv2.IMREAD_GRAYSCALE) \n",
        "        \n",
        "        yield (x/255,y/255)\n",
        "\n",
        "steps_per_epoch = 20\n",
        "train_batch_size = int(train_cnt / steps_per_epoch)\n",
        "valid_batch_size = int(valid_cnt / steps_per_epoch)\n",
        "test_batch_size = int(test_cnt / steps_per_epoch)\n",
        "train_gen = data_generator(train_batch_size, train_cnt, train_x_dir, train_y_dir)\n",
        "valid_gen = data_generator(valid_batch_size, valid_cnt, valid_x_dir, valid_y_dir)\n",
        "test_gen = data_generator(test_batch_size, test_cnt, test_x_dir, test_y_dir)"
      ],
      "execution_count": 0,
      "outputs": []
    },
    {
      "cell_type": "markdown",
      "metadata": {
        "id": "R6DZjFweh7Vq",
        "colab_type": "text"
      },
      "source": [
        "Our model consists of an encoder half-network that is followed by a decoder half-network, with sigmoid activation applied to the combined output of the last decoder layer."
      ]
    },
    {
      "cell_type": "code",
      "metadata": {
        "id": "-B-MAfRi13ku",
        "colab_type": "code",
        "outputId": "5aa4cdcb-4ef9-4243-8a5d-eef8aafb5d8c",
        "colab": {
          "base_uri": "https://localhost:8080/",
          "height": 910
        }
      },
      "source": [
        "kernel_size = (6,8)\n",
        "filters = 64\n",
        "\n",
        "model = keras.models.Sequential()\n",
        "model.add(keras.layers.InputLayer(input_shape=(120, 160, 3)))    # RGB image goes in\n",
        "\n",
        "# ENCODER\n",
        "# --------------------\n",
        "for _ in range(3):\n",
        "    for _ in range(2):\n",
        "        model.add(keras.layers.Conv2D(filters=filters,\n",
        "                                        kernel_size=kernel_size,\n",
        "                                        strides=1,\n",
        "                                        padding='same',\n",
        "                                        use_bias=True,\n",
        "                                        bias_initializer=keras.initializers.constant(value=0.0)))\n",
        "        model.add(keras.layers.BatchNormalization())\n",
        "        model.add(keras.layers.ReLU())\n",
        "\n",
        "    model.add(keras.layers.MaxPool2D(pool_size=2, strides=2))\n",
        "    filters *= 2\n",
        "# --------------------\n",
        "\n",
        "# DECODER\n",
        "# --------------------\n",
        "for _ in range(3):\n",
        "    filters = round(filters/2)\n",
        "    model.add(keras.layers.UpSampling2D(size=2,\n",
        "                                        interpolation='nearest'))\n",
        "    for _ in range(2):\n",
        "        model.add(keras.layers.Conv2D(filters=filters,\n",
        "                                        kernel_size=kernel_size,\n",
        "                                        strides=1,\n",
        "                                        padding='same',\n",
        "                                        use_bias=True,\n",
        "                                        bias_initializer=keras.initializers.constant(value=0.0)))\n",
        "        model.add(keras.layers.BatchNormalization())       \n",
        "        model.add(keras.layers.ReLU())\n",
        "# --------------------\n",
        "\n",
        "model.add(keras.layers.Dense(units=1,\n",
        "                                activation='sigmoid',\n",
        "                                use_bias=True\n",
        "))\n",
        "model.add(keras.layers.Reshape((120,160)))"
      ],
      "execution_count": 6,
      "outputs": [
        {
          "output_type": "stream",
          "text": [
            "WARNING:tensorflow:From /usr/local/lib/python3.6/dist-packages/keras/backend/tensorflow_backend.py:66: The name tf.get_default_graph is deprecated. Please use tf.compat.v1.get_default_graph instead.\n",
            "\n"
          ],
          "name": "stdout"
        },
        {
          "output_type": "stream",
          "text": [
            "[WARNING]: From /usr/local/lib/python3.6/dist-packages/keras/backend/tensorflow_backend.py:66: The name tf.get_default_graph is deprecated. Please use tf.compat.v1.get_default_graph instead.\n",
            "\n"
          ],
          "name": "stderr"
        },
        {
          "output_type": "stream",
          "text": [
            "WARNING:tensorflow:From /usr/local/lib/python3.6/dist-packages/keras/backend/tensorflow_backend.py:541: The name tf.placeholder is deprecated. Please use tf.compat.v1.placeholder instead.\n",
            "\n"
          ],
          "name": "stdout"
        },
        {
          "output_type": "stream",
          "text": [
            "[WARNING]: From /usr/local/lib/python3.6/dist-packages/keras/backend/tensorflow_backend.py:541: The name tf.placeholder is deprecated. Please use tf.compat.v1.placeholder instead.\n",
            "\n"
          ],
          "name": "stderr"
        },
        {
          "output_type": "stream",
          "text": [
            "WARNING:tensorflow:From /usr/local/lib/python3.6/dist-packages/keras/backend/tensorflow_backend.py:4432: The name tf.random_uniform is deprecated. Please use tf.random.uniform instead.\n",
            "\n"
          ],
          "name": "stdout"
        },
        {
          "output_type": "stream",
          "text": [
            "[WARNING]: From /usr/local/lib/python3.6/dist-packages/keras/backend/tensorflow_backend.py:4432: The name tf.random_uniform is deprecated. Please use tf.random.uniform instead.\n",
            "\n"
          ],
          "name": "stderr"
        },
        {
          "output_type": "stream",
          "text": [
            "WARNING:tensorflow:From /usr/local/lib/python3.6/dist-packages/keras/backend/tensorflow_backend.py:190: The name tf.get_default_session is deprecated. Please use tf.compat.v1.get_default_session instead.\n",
            "\n"
          ],
          "name": "stdout"
        },
        {
          "output_type": "stream",
          "text": [
            "[WARNING]: From /usr/local/lib/python3.6/dist-packages/keras/backend/tensorflow_backend.py:190: The name tf.get_default_session is deprecated. Please use tf.compat.v1.get_default_session instead.\n",
            "\n"
          ],
          "name": "stderr"
        },
        {
          "output_type": "stream",
          "text": [
            "WARNING:tensorflow:From /usr/local/lib/python3.6/dist-packages/keras/backend/tensorflow_backend.py:197: The name tf.ConfigProto is deprecated. Please use tf.compat.v1.ConfigProto instead.\n",
            "\n"
          ],
          "name": "stdout"
        },
        {
          "output_type": "stream",
          "text": [
            "[WARNING]: From /usr/local/lib/python3.6/dist-packages/keras/backend/tensorflow_backend.py:197: The name tf.ConfigProto is deprecated. Please use tf.compat.v1.ConfigProto instead.\n",
            "\n"
          ],
          "name": "stderr"
        },
        {
          "output_type": "stream",
          "text": [
            "WARNING:tensorflow:From /usr/local/lib/python3.6/dist-packages/keras/backend/tensorflow_backend.py:203: The name tf.Session is deprecated. Please use tf.compat.v1.Session instead.\n",
            "\n"
          ],
          "name": "stdout"
        },
        {
          "output_type": "stream",
          "text": [
            "[WARNING]: From /usr/local/lib/python3.6/dist-packages/keras/backend/tensorflow_backend.py:203: The name tf.Session is deprecated. Please use tf.compat.v1.Session instead.\n",
            "\n"
          ],
          "name": "stderr"
        },
        {
          "output_type": "stream",
          "text": [
            "WARNING:tensorflow:From /usr/local/lib/python3.6/dist-packages/keras/backend/tensorflow_backend.py:207: The name tf.global_variables is deprecated. Please use tf.compat.v1.global_variables instead.\n",
            "\n"
          ],
          "name": "stdout"
        },
        {
          "output_type": "stream",
          "text": [
            "[WARNING]: From /usr/local/lib/python3.6/dist-packages/keras/backend/tensorflow_backend.py:207: The name tf.global_variables is deprecated. Please use tf.compat.v1.global_variables instead.\n",
            "\n"
          ],
          "name": "stderr"
        },
        {
          "output_type": "stream",
          "text": [
            "WARNING:tensorflow:From /usr/local/lib/python3.6/dist-packages/keras/backend/tensorflow_backend.py:216: The name tf.is_variable_initialized is deprecated. Please use tf.compat.v1.is_variable_initialized instead.\n",
            "\n"
          ],
          "name": "stdout"
        },
        {
          "output_type": "stream",
          "text": [
            "[WARNING]: From /usr/local/lib/python3.6/dist-packages/keras/backend/tensorflow_backend.py:216: The name tf.is_variable_initialized is deprecated. Please use tf.compat.v1.is_variable_initialized instead.\n",
            "\n"
          ],
          "name": "stderr"
        },
        {
          "output_type": "stream",
          "text": [
            "WARNING:tensorflow:From /usr/local/lib/python3.6/dist-packages/keras/backend/tensorflow_backend.py:223: The name tf.variables_initializer is deprecated. Please use tf.compat.v1.variables_initializer instead.\n",
            "\n"
          ],
          "name": "stdout"
        },
        {
          "output_type": "stream",
          "text": [
            "[WARNING]: From /usr/local/lib/python3.6/dist-packages/keras/backend/tensorflow_backend.py:223: The name tf.variables_initializer is deprecated. Please use tf.compat.v1.variables_initializer instead.\n",
            "\n"
          ],
          "name": "stderr"
        },
        {
          "output_type": "stream",
          "text": [
            "WARNING:tensorflow:From /usr/local/lib/python3.6/dist-packages/keras/backend/tensorflow_backend.py:2041: The name tf.nn.fused_batch_norm is deprecated. Please use tf.compat.v1.nn.fused_batch_norm instead.\n",
            "\n"
          ],
          "name": "stdout"
        },
        {
          "output_type": "stream",
          "text": [
            "[WARNING]: From /usr/local/lib/python3.6/dist-packages/keras/backend/tensorflow_backend.py:2041: The name tf.nn.fused_batch_norm is deprecated. Please use tf.compat.v1.nn.fused_batch_norm instead.\n",
            "\n"
          ],
          "name": "stderr"
        },
        {
          "output_type": "stream",
          "text": [
            "WARNING:tensorflow:From /usr/local/lib/python3.6/dist-packages/keras/backend/tensorflow_backend.py:148: The name tf.placeholder_with_default is deprecated. Please use tf.compat.v1.placeholder_with_default instead.\n",
            "\n"
          ],
          "name": "stdout"
        },
        {
          "output_type": "stream",
          "text": [
            "[WARNING]: From /usr/local/lib/python3.6/dist-packages/keras/backend/tensorflow_backend.py:148: The name tf.placeholder_with_default is deprecated. Please use tf.compat.v1.placeholder_with_default instead.\n",
            "\n"
          ],
          "name": "stderr"
        },
        {
          "output_type": "stream",
          "text": [
            "WARNING:tensorflow:From /usr/local/lib/python3.6/dist-packages/keras/backend/tensorflow_backend.py:4267: The name tf.nn.max_pool is deprecated. Please use tf.nn.max_pool2d instead.\n",
            "\n"
          ],
          "name": "stdout"
        },
        {
          "output_type": "stream",
          "text": [
            "[WARNING]: From /usr/local/lib/python3.6/dist-packages/keras/backend/tensorflow_backend.py:4267: The name tf.nn.max_pool is deprecated. Please use tf.nn.max_pool2d instead.\n",
            "\n"
          ],
          "name": "stderr"
        },
        {
          "output_type": "stream",
          "text": [
            "WARNING:tensorflow:From /usr/local/lib/python3.6/dist-packages/keras/backend/tensorflow_backend.py:2239: The name tf.image.resize_nearest_neighbor is deprecated. Please use tf.compat.v1.image.resize_nearest_neighbor instead.\n",
            "\n"
          ],
          "name": "stdout"
        },
        {
          "output_type": "stream",
          "text": [
            "[WARNING]: From /usr/local/lib/python3.6/dist-packages/keras/backend/tensorflow_backend.py:2239: The name tf.image.resize_nearest_neighbor is deprecated. Please use tf.compat.v1.image.resize_nearest_neighbor instead.\n",
            "\n"
          ],
          "name": "stderr"
        }
      ]
    },
    {
      "cell_type": "code",
      "metadata": {
        "id": "3kyoQEeeGUdm",
        "colab_type": "code",
        "colab": {
          "base_uri": "https://localhost:8080/",
          "height": 1000
        },
        "outputId": "490a9876-cb17-4e3b-a6ca-180cb12c1245"
      },
      "source": [
        "model.compile(optimizer=keras.optimizers.Adam(lr=1e-3), loss=\"binary_crossentropy\", metrics=['acc'])\n",
        "model.summary()"
      ],
      "execution_count": 8,
      "outputs": [
        {
          "output_type": "stream",
          "text": [
            "WARNING:tensorflow:From /usr/local/lib/python3.6/dist-packages/keras/optimizers.py:793: The name tf.train.Optimizer is deprecated. Please use tf.compat.v1.train.Optimizer instead.\n",
            "\n"
          ],
          "name": "stdout"
        },
        {
          "output_type": "stream",
          "text": [
            "[WARNING]: From /usr/local/lib/python3.6/dist-packages/keras/optimizers.py:793: The name tf.train.Optimizer is deprecated. Please use tf.compat.v1.train.Optimizer instead.\n",
            "\n"
          ],
          "name": "stderr"
        },
        {
          "output_type": "stream",
          "text": [
            "WARNING:tensorflow:From /usr/local/lib/python3.6/dist-packages/keras/backend/tensorflow_backend.py:3657: The name tf.log is deprecated. Please use tf.math.log instead.\n",
            "\n"
          ],
          "name": "stdout"
        },
        {
          "output_type": "stream",
          "text": [
            "[WARNING]: From /usr/local/lib/python3.6/dist-packages/keras/backend/tensorflow_backend.py:3657: The name tf.log is deprecated. Please use tf.math.log instead.\n",
            "\n"
          ],
          "name": "stderr"
        },
        {
          "output_type": "stream",
          "text": [
            "WARNING:tensorflow:From /usr/local/lib/python3.6/dist-packages/tensorflow_core/python/ops/nn_impl.py:183: where (from tensorflow.python.ops.array_ops) is deprecated and will be removed in a future version.\n",
            "Instructions for updating:\n",
            "Use tf.where in 2.0, which has the same broadcast rule as np.where\n"
          ],
          "name": "stdout"
        },
        {
          "output_type": "stream",
          "text": [
            "[WARNING]: From /usr/local/lib/python3.6/dist-packages/tensorflow_core/python/ops/nn_impl.py:183: where (from tensorflow.python.ops.array_ops) is deprecated and will be removed in a future version.\n",
            "Instructions for updating:\n",
            "Use tf.where in 2.0, which has the same broadcast rule as np.where\n"
          ],
          "name": "stderr"
        },
        {
          "output_type": "stream",
          "text": [
            "Model: \"sequential_1\"\n",
            "_________________________________________________________________\n",
            "Layer (type)                 Output Shape              Param #   \n",
            "=================================================================\n",
            "conv2d_1 (Conv2D)            (None, 120, 160, 64)      9280      \n",
            "_________________________________________________________________\n",
            "batch_normalization_1 (Batch (None, 120, 160, 64)      256       \n",
            "_________________________________________________________________\n",
            "re_lu_1 (ReLU)               (None, 120, 160, 64)      0         \n",
            "_________________________________________________________________\n",
            "conv2d_2 (Conv2D)            (None, 120, 160, 64)      196672    \n",
            "_________________________________________________________________\n",
            "batch_normalization_2 (Batch (None, 120, 160, 64)      256       \n",
            "_________________________________________________________________\n",
            "re_lu_2 (ReLU)               (None, 120, 160, 64)      0         \n",
            "_________________________________________________________________\n",
            "max_pooling2d_1 (MaxPooling2 (None, 60, 80, 64)        0         \n",
            "_________________________________________________________________\n",
            "conv2d_3 (Conv2D)            (None, 60, 80, 128)       393344    \n",
            "_________________________________________________________________\n",
            "batch_normalization_3 (Batch (None, 60, 80, 128)       512       \n",
            "_________________________________________________________________\n",
            "re_lu_3 (ReLU)               (None, 60, 80, 128)       0         \n",
            "_________________________________________________________________\n",
            "conv2d_4 (Conv2D)            (None, 60, 80, 128)       786560    \n",
            "_________________________________________________________________\n",
            "batch_normalization_4 (Batch (None, 60, 80, 128)       512       \n",
            "_________________________________________________________________\n",
            "re_lu_4 (ReLU)               (None, 60, 80, 128)       0         \n",
            "_________________________________________________________________\n",
            "max_pooling2d_2 (MaxPooling2 (None, 30, 40, 128)       0         \n",
            "_________________________________________________________________\n",
            "conv2d_5 (Conv2D)            (None, 30, 40, 256)       1573120   \n",
            "_________________________________________________________________\n",
            "batch_normalization_5 (Batch (None, 30, 40, 256)       1024      \n",
            "_________________________________________________________________\n",
            "re_lu_5 (ReLU)               (None, 30, 40, 256)       0         \n",
            "_________________________________________________________________\n",
            "conv2d_6 (Conv2D)            (None, 30, 40, 256)       3145984   \n",
            "_________________________________________________________________\n",
            "batch_normalization_6 (Batch (None, 30, 40, 256)       1024      \n",
            "_________________________________________________________________\n",
            "re_lu_6 (ReLU)               (None, 30, 40, 256)       0         \n",
            "_________________________________________________________________\n",
            "max_pooling2d_3 (MaxPooling2 (None, 15, 20, 256)       0         \n",
            "_________________________________________________________________\n",
            "up_sampling2d_1 (UpSampling2 (None, 30, 40, 256)       0         \n",
            "_________________________________________________________________\n",
            "conv2d_7 (Conv2D)            (None, 30, 40, 256)       3145984   \n",
            "_________________________________________________________________\n",
            "batch_normalization_7 (Batch (None, 30, 40, 256)       1024      \n",
            "_________________________________________________________________\n",
            "re_lu_7 (ReLU)               (None, 30, 40, 256)       0         \n",
            "_________________________________________________________________\n",
            "conv2d_8 (Conv2D)            (None, 30, 40, 256)       3145984   \n",
            "_________________________________________________________________\n",
            "batch_normalization_8 (Batch (None, 30, 40, 256)       1024      \n",
            "_________________________________________________________________\n",
            "re_lu_8 (ReLU)               (None, 30, 40, 256)       0         \n",
            "_________________________________________________________________\n",
            "up_sampling2d_2 (UpSampling2 (None, 60, 80, 256)       0         \n",
            "_________________________________________________________________\n",
            "conv2d_9 (Conv2D)            (None, 60, 80, 128)       1572992   \n",
            "_________________________________________________________________\n",
            "batch_normalization_9 (Batch (None, 60, 80, 128)       512       \n",
            "_________________________________________________________________\n",
            "re_lu_9 (ReLU)               (None, 60, 80, 128)       0         \n",
            "_________________________________________________________________\n",
            "conv2d_10 (Conv2D)           (None, 60, 80, 128)       786560    \n",
            "_________________________________________________________________\n",
            "batch_normalization_10 (Batc (None, 60, 80, 128)       512       \n",
            "_________________________________________________________________\n",
            "re_lu_10 (ReLU)              (None, 60, 80, 128)       0         \n",
            "_________________________________________________________________\n",
            "up_sampling2d_3 (UpSampling2 (None, 120, 160, 128)     0         \n",
            "_________________________________________________________________\n",
            "conv2d_11 (Conv2D)           (None, 120, 160, 64)      393280    \n",
            "_________________________________________________________________\n",
            "batch_normalization_11 (Batc (None, 120, 160, 64)      256       \n",
            "_________________________________________________________________\n",
            "re_lu_11 (ReLU)              (None, 120, 160, 64)      0         \n",
            "_________________________________________________________________\n",
            "conv2d_12 (Conv2D)           (None, 120, 160, 64)      196672    \n",
            "_________________________________________________________________\n",
            "batch_normalization_12 (Batc (None, 120, 160, 64)      256       \n",
            "_________________________________________________________________\n",
            "re_lu_12 (ReLU)              (None, 120, 160, 64)      0         \n",
            "_________________________________________________________________\n",
            "dense_1 (Dense)              (None, 120, 160, 1)       65        \n",
            "_________________________________________________________________\n",
            "reshape_1 (Reshape)          (None, 120, 160)          0         \n",
            "=================================================================\n",
            "Total params: 15,353,665\n",
            "Trainable params: 15,350,081\n",
            "Non-trainable params: 3,584\n",
            "_________________________________________________________________\n"
          ],
          "name": "stdout"
        }
      ]
    },
    {
      "cell_type": "markdown",
      "metadata": {
        "id": "hV63ywTtiRtw",
        "colab_type": "text"
      },
      "source": [
        "As we see we have about 15M parameters and practically all of them are up for training. Now we should define our callbacks."
      ]
    },
    {
      "cell_type": "code",
      "metadata": {
        "id": "Uosw7LNAile3",
        "colab_type": "code",
        "colab": {}
      },
      "source": [
        "checkpoint_name = 'rightlane_segment.hdf5'\n",
        "callback_checkpoint = keras.callbacks.ModelCheckpoint(filepath=checkpoint_name,\n",
        "                                                          monitor='val_loss',\n",
        "                                                          verbose=1,\n",
        "                                                          save_weights_only=True,\n",
        "                                                          save_best_only=True)\n",
        "\n",
        "callback_early_stopping = keras.callbacks.EarlyStopping(monitor='val_loss',\n",
        "                                         patience=10, verbose=1)\n",
        "callback_reduce_lr = keras.callbacks.ReduceLROnPlateau(monitor='val_loss',\n",
        "                                                          factor=0.1,\n",
        "                                                          patience=7,\n",
        "                                                          verbose=1,\n",
        "                                                          min_rl=1e-5)"
      ],
      "execution_count": 0,
      "outputs": []
    },
    {
      "cell_type": "markdown",
      "metadata": {
        "id": "4sC931YtimVc",
        "colab_type": "text"
      },
      "source": [
        "We are ready for training! We apply our generator functions to the fit_generator function of our model."
      ]
    },
    {
      "cell_type": "code",
      "metadata": {
        "id": "9LKzNHRnzFvR",
        "colab_type": "code",
        "outputId": "2dad99b2-23cd-43ad-ade0-3954f04e3dc4",
        "colab": {
          "base_uri": "https://localhost:8080/",
          "height": 1000
        }
      },
      "source": [
        "model.fit_generator(\n",
        "    generator=train_gen,\n",
        "    steps_per_epoch=steps_per_epoch,\n",
        "    epochs=50,\n",
        "    verbose=1,\n",
        "    validation_data=valid_gen,\n",
        "    validation_steps=steps_per_epoch,\n",
        "    callbacks=[callback_checkpoint, callback_reduce_lr, callback_early_stopping]\n",
        ")"
      ],
      "execution_count": 10,
      "outputs": [
        {
          "output_type": "stream",
          "text": [
            "WARNING:tensorflow:From /usr/local/lib/python3.6/dist-packages/keras/backend/tensorflow_backend.py:1033: The name tf.assign_add is deprecated. Please use tf.compat.v1.assign_add instead.\n",
            "\n"
          ],
          "name": "stdout"
        },
        {
          "output_type": "stream",
          "text": [
            "[WARNING]: From /usr/local/lib/python3.6/dist-packages/keras/backend/tensorflow_backend.py:1033: The name tf.assign_add is deprecated. Please use tf.compat.v1.assign_add instead.\n",
            "\n"
          ],
          "name": "stderr"
        },
        {
          "output_type": "stream",
          "text": [
            "WARNING:tensorflow:From /usr/local/lib/python3.6/dist-packages/keras/backend/tensorflow_backend.py:1020: The name tf.assign is deprecated. Please use tf.compat.v1.assign instead.\n",
            "\n"
          ],
          "name": "stdout"
        },
        {
          "output_type": "stream",
          "text": [
            "[WARNING]: From /usr/local/lib/python3.6/dist-packages/keras/backend/tensorflow_backend.py:1020: The name tf.assign is deprecated. Please use tf.compat.v1.assign instead.\n",
            "\n"
          ],
          "name": "stderr"
        },
        {
          "output_type": "stream",
          "text": [
            "Epoch 1/50\n",
            "20/20 [==============================] - 162s 8s/step - loss: 0.4063 - acc: 0.8004 - val_loss: 2.2541 - val_acc: 0.7691\n",
            "\n",
            "Epoch 00001: val_loss improved from inf to 2.25406, saving model to rightlane_segment.hdf5\n",
            "Epoch 2/50\n",
            "20/20 [==============================] - 127s 6s/step - loss: 0.1923 - acc: 0.9254 - val_loss: 0.5851 - val_acc: 0.7860\n",
            "\n",
            "Epoch 00002: val_loss improved from 2.25406 to 0.58510, saving model to rightlane_segment.hdf5\n",
            "Epoch 3/50\n",
            "20/20 [==============================] - 127s 6s/step - loss: 0.1398 - acc: 0.9444 - val_loss: 0.3649 - val_acc: 0.8898\n",
            "\n",
            "Epoch 00003: val_loss improved from 0.58510 to 0.36491, saving model to rightlane_segment.hdf5\n",
            "Epoch 4/50\n",
            "20/20 [==============================] - 127s 6s/step - loss: 0.1148 - acc: 0.9520 - val_loss: 0.7767 - val_acc: 0.8045\n",
            "\n",
            "Epoch 00004: val_loss did not improve from 0.36491\n",
            "Epoch 5/50\n",
            "20/20 [==============================] - 127s 6s/step - loss: 0.0933 - acc: 0.9618 - val_loss: 0.2876 - val_acc: 0.9049\n",
            "\n",
            "Epoch 00005: val_loss improved from 0.36491 to 0.28756, saving model to rightlane_segment.hdf5\n",
            "Epoch 6/50\n",
            "20/20 [==============================] - 127s 6s/step - loss: 0.0865 - acc: 0.9640 - val_loss: 0.1954 - val_acc: 0.9338\n",
            "\n",
            "Epoch 00006: val_loss improved from 0.28756 to 0.19543, saving model to rightlane_segment.hdf5\n",
            "Epoch 7/50\n",
            "20/20 [==============================] - 126s 6s/step - loss: 0.0817 - acc: 0.9665 - val_loss: 0.2373 - val_acc: 0.9216\n",
            "\n",
            "Epoch 00007: val_loss did not improve from 0.19543\n",
            "Epoch 8/50\n",
            "20/20 [==============================] - 126s 6s/step - loss: 0.0613 - acc: 0.9737 - val_loss: 0.3485 - val_acc: 0.8869\n",
            "\n",
            "Epoch 00008: val_loss did not improve from 0.19543\n",
            "Epoch 9/50\n",
            "20/20 [==============================] - 126s 6s/step - loss: 0.0484 - acc: 0.9792 - val_loss: 0.1852 - val_acc: 0.9348\n",
            "\n",
            "Epoch 00009: val_loss improved from 0.19543 to 0.18524, saving model to rightlane_segment.hdf5\n",
            "Epoch 10/50\n",
            "20/20 [==============================] - 126s 6s/step - loss: 0.0527 - acc: 0.9773 - val_loss: 0.1905 - val_acc: 0.9282\n",
            "\n",
            "Epoch 00010: val_loss did not improve from 0.18524\n",
            "Epoch 11/50\n",
            "20/20 [==============================] - 126s 6s/step - loss: 0.0446 - acc: 0.9803 - val_loss: 0.2537 - val_acc: 0.9067\n",
            "\n",
            "Epoch 00011: val_loss did not improve from 0.18524\n",
            "Epoch 12/50\n",
            "20/20 [==============================] - 126s 6s/step - loss: 0.0517 - acc: 0.9772 - val_loss: 0.1925 - val_acc: 0.9327\n",
            "\n",
            "Epoch 00012: val_loss did not improve from 0.18524\n",
            "Epoch 13/50\n",
            "20/20 [==============================] - 126s 6s/step - loss: 0.0408 - acc: 0.9819 - val_loss: 0.2576 - val_acc: 0.9091\n",
            "\n",
            "Epoch 00013: val_loss did not improve from 0.18524\n",
            "Epoch 14/50\n",
            "20/20 [==============================] - 126s 6s/step - loss: 0.0432 - acc: 0.9808 - val_loss: 0.1664 - val_acc: 0.9402\n",
            "\n",
            "Epoch 00014: val_loss improved from 0.18524 to 0.16636, saving model to rightlane_segment.hdf5\n",
            "Epoch 15/50\n",
            "20/20 [==============================] - 126s 6s/step - loss: 0.0344 - acc: 0.9840 - val_loss: 0.1099 - val_acc: 0.9580\n",
            "\n",
            "Epoch 00015: val_loss improved from 0.16636 to 0.10987, saving model to rightlane_segment.hdf5\n",
            "Epoch 16/50\n",
            "20/20 [==============================] - 126s 6s/step - loss: 0.0319 - acc: 0.9852 - val_loss: 0.1015 - val_acc: 0.9614\n",
            "\n",
            "Epoch 00016: val_loss improved from 0.10987 to 0.10149, saving model to rightlane_segment.hdf5\n",
            "Epoch 17/50\n",
            "20/20 [==============================] - 126s 6s/step - loss: 0.0311 - acc: 0.9853 - val_loss: 0.1365 - val_acc: 0.9533\n",
            "\n",
            "Epoch 00017: val_loss did not improve from 0.10149\n",
            "Epoch 18/50\n",
            "20/20 [==============================] - 126s 6s/step - loss: 0.0286 - acc: 0.9864 - val_loss: 0.1210 - val_acc: 0.9540\n",
            "\n",
            "Epoch 00018: val_loss did not improve from 0.10149\n",
            "Epoch 19/50\n",
            "20/20 [==============================] - 126s 6s/step - loss: 0.0281 - acc: 0.9864 - val_loss: 0.1642 - val_acc: 0.9395\n",
            "\n",
            "Epoch 00019: val_loss did not improve from 0.10149\n",
            "Epoch 20/50\n",
            "20/20 [==============================] - 126s 6s/step - loss: 0.0282 - acc: 0.9865 - val_loss: 0.0736 - val_acc: 0.9701\n",
            "\n",
            "Epoch 00020: val_loss improved from 0.10149 to 0.07363, saving model to rightlane_segment.hdf5\n",
            "Epoch 21/50\n",
            " 5/20 [======>.......................] - ETA: 1:27 - loss: 0.0246 - acc: 0.9881"
          ],
          "name": "stdout"
        },
        {
          "output_type": "error",
          "ename": "KeyboardInterrupt",
          "evalue": "ignored",
          "traceback": [
            "\u001b[0;31m---------------------------------------------------------------------------\u001b[0m",
            "\u001b[0;31mKeyboardInterrupt\u001b[0m                         Traceback (most recent call last)",
            "\u001b[0;32m<ipython-input-10-bff43e93f416>\u001b[0m in \u001b[0;36m<module>\u001b[0;34m()\u001b[0m\n\u001b[1;32m      6\u001b[0m     \u001b[0mvalidation_data\u001b[0m\u001b[0;34m=\u001b[0m\u001b[0mvalid_gen\u001b[0m\u001b[0;34m,\u001b[0m\u001b[0;34m\u001b[0m\u001b[0;34m\u001b[0m\u001b[0m\n\u001b[1;32m      7\u001b[0m     \u001b[0mvalidation_steps\u001b[0m\u001b[0;34m=\u001b[0m\u001b[0msteps_per_epoch\u001b[0m\u001b[0;34m,\u001b[0m\u001b[0;34m\u001b[0m\u001b[0;34m\u001b[0m\u001b[0m\n\u001b[0;32m----> 8\u001b[0;31m     \u001b[0mcallbacks\u001b[0m\u001b[0;34m=\u001b[0m\u001b[0;34m[\u001b[0m\u001b[0mcallback_checkpoint\u001b[0m\u001b[0;34m,\u001b[0m \u001b[0mcallback_reduce_lr\u001b[0m\u001b[0;34m,\u001b[0m \u001b[0mcallback_early_stopping\u001b[0m\u001b[0;34m]\u001b[0m\u001b[0;34m\u001b[0m\u001b[0;34m\u001b[0m\u001b[0m\n\u001b[0m\u001b[1;32m      9\u001b[0m )\n",
            "\u001b[0;32m/usr/local/lib/python3.6/dist-packages/keras/legacy/interfaces.py\u001b[0m in \u001b[0;36mwrapper\u001b[0;34m(*args, **kwargs)\u001b[0m\n\u001b[1;32m     89\u001b[0m                 warnings.warn('Update your `' + object_name + '` call to the ' +\n\u001b[1;32m     90\u001b[0m                               'Keras 2 API: ' + signature, stacklevel=2)\n\u001b[0;32m---> 91\u001b[0;31m             \u001b[0;32mreturn\u001b[0m \u001b[0mfunc\u001b[0m\u001b[0;34m(\u001b[0m\u001b[0;34m*\u001b[0m\u001b[0margs\u001b[0m\u001b[0;34m,\u001b[0m \u001b[0;34m**\u001b[0m\u001b[0mkwargs\u001b[0m\u001b[0;34m)\u001b[0m\u001b[0;34m\u001b[0m\u001b[0;34m\u001b[0m\u001b[0m\n\u001b[0m\u001b[1;32m     92\u001b[0m         \u001b[0mwrapper\u001b[0m\u001b[0;34m.\u001b[0m\u001b[0m_original_function\u001b[0m \u001b[0;34m=\u001b[0m \u001b[0mfunc\u001b[0m\u001b[0;34m\u001b[0m\u001b[0;34m\u001b[0m\u001b[0m\n\u001b[1;32m     93\u001b[0m         \u001b[0;32mreturn\u001b[0m \u001b[0mwrapper\u001b[0m\u001b[0;34m\u001b[0m\u001b[0;34m\u001b[0m\u001b[0m\n",
            "\u001b[0;32m/usr/local/lib/python3.6/dist-packages/keras/engine/training.py\u001b[0m in \u001b[0;36mfit_generator\u001b[0;34m(self, generator, steps_per_epoch, epochs, verbose, callbacks, validation_data, validation_steps, validation_freq, class_weight, max_queue_size, workers, use_multiprocessing, shuffle, initial_epoch)\u001b[0m\n\u001b[1;32m   1656\u001b[0m             \u001b[0muse_multiprocessing\u001b[0m\u001b[0;34m=\u001b[0m\u001b[0muse_multiprocessing\u001b[0m\u001b[0;34m,\u001b[0m\u001b[0;34m\u001b[0m\u001b[0;34m\u001b[0m\u001b[0m\n\u001b[1;32m   1657\u001b[0m             \u001b[0mshuffle\u001b[0m\u001b[0;34m=\u001b[0m\u001b[0mshuffle\u001b[0m\u001b[0;34m,\u001b[0m\u001b[0;34m\u001b[0m\u001b[0;34m\u001b[0m\u001b[0m\n\u001b[0;32m-> 1658\u001b[0;31m             initial_epoch=initial_epoch)\n\u001b[0m\u001b[1;32m   1659\u001b[0m \u001b[0;34m\u001b[0m\u001b[0m\n\u001b[1;32m   1660\u001b[0m     \u001b[0;34m@\u001b[0m\u001b[0minterfaces\u001b[0m\u001b[0;34m.\u001b[0m\u001b[0mlegacy_generator_methods_support\u001b[0m\u001b[0;34m\u001b[0m\u001b[0;34m\u001b[0m\u001b[0m\n",
            "\u001b[0;32m/usr/local/lib/python3.6/dist-packages/keras/engine/training_generator.py\u001b[0m in \u001b[0;36mfit_generator\u001b[0;34m(model, generator, steps_per_epoch, epochs, verbose, callbacks, validation_data, validation_steps, validation_freq, class_weight, max_queue_size, workers, use_multiprocessing, shuffle, initial_epoch)\u001b[0m\n\u001b[1;32m    213\u001b[0m                 outs = model.train_on_batch(x, y,\n\u001b[1;32m    214\u001b[0m                                             \u001b[0msample_weight\u001b[0m\u001b[0;34m=\u001b[0m\u001b[0msample_weight\u001b[0m\u001b[0;34m,\u001b[0m\u001b[0;34m\u001b[0m\u001b[0;34m\u001b[0m\u001b[0m\n\u001b[0;32m--> 215\u001b[0;31m                                             class_weight=class_weight)\n\u001b[0m\u001b[1;32m    216\u001b[0m \u001b[0;34m\u001b[0m\u001b[0m\n\u001b[1;32m    217\u001b[0m                 \u001b[0mouts\u001b[0m \u001b[0;34m=\u001b[0m \u001b[0mto_list\u001b[0m\u001b[0;34m(\u001b[0m\u001b[0mouts\u001b[0m\u001b[0;34m)\u001b[0m\u001b[0;34m\u001b[0m\u001b[0;34m\u001b[0m\u001b[0m\n",
            "\u001b[0;32m/usr/local/lib/python3.6/dist-packages/keras/engine/training.py\u001b[0m in \u001b[0;36mtrain_on_batch\u001b[0;34m(self, x, y, sample_weight, class_weight)\u001b[0m\n\u001b[1;32m   1447\u001b[0m             \u001b[0mins\u001b[0m \u001b[0;34m=\u001b[0m \u001b[0mx\u001b[0m \u001b[0;34m+\u001b[0m \u001b[0my\u001b[0m \u001b[0;34m+\u001b[0m \u001b[0msample_weights\u001b[0m\u001b[0;34m\u001b[0m\u001b[0;34m\u001b[0m\u001b[0m\n\u001b[1;32m   1448\u001b[0m         \u001b[0mself\u001b[0m\u001b[0;34m.\u001b[0m\u001b[0m_make_train_function\u001b[0m\u001b[0;34m(\u001b[0m\u001b[0;34m)\u001b[0m\u001b[0;34m\u001b[0m\u001b[0;34m\u001b[0m\u001b[0m\n\u001b[0;32m-> 1449\u001b[0;31m         \u001b[0moutputs\u001b[0m \u001b[0;34m=\u001b[0m \u001b[0mself\u001b[0m\u001b[0;34m.\u001b[0m\u001b[0mtrain_function\u001b[0m\u001b[0;34m(\u001b[0m\u001b[0mins\u001b[0m\u001b[0;34m)\u001b[0m\u001b[0;34m\u001b[0m\u001b[0;34m\u001b[0m\u001b[0m\n\u001b[0m\u001b[1;32m   1450\u001b[0m         \u001b[0;32mreturn\u001b[0m \u001b[0munpack_singleton\u001b[0m\u001b[0;34m(\u001b[0m\u001b[0moutputs\u001b[0m\u001b[0;34m)\u001b[0m\u001b[0;34m\u001b[0m\u001b[0;34m\u001b[0m\u001b[0m\n\u001b[1;32m   1451\u001b[0m \u001b[0;34m\u001b[0m\u001b[0m\n",
            "\u001b[0;32m/usr/local/lib/python3.6/dist-packages/keras/backend/tensorflow_backend.py\u001b[0m in \u001b[0;36m__call__\u001b[0;34m(self, inputs)\u001b[0m\n\u001b[1;32m   2977\u001b[0m                     \u001b[0;32mreturn\u001b[0m \u001b[0mself\u001b[0m\u001b[0;34m.\u001b[0m\u001b[0m_legacy_call\u001b[0m\u001b[0;34m(\u001b[0m\u001b[0minputs\u001b[0m\u001b[0;34m)\u001b[0m\u001b[0;34m\u001b[0m\u001b[0;34m\u001b[0m\u001b[0m\n\u001b[1;32m   2978\u001b[0m \u001b[0;34m\u001b[0m\u001b[0m\n\u001b[0;32m-> 2979\u001b[0;31m             \u001b[0;32mreturn\u001b[0m \u001b[0mself\u001b[0m\u001b[0;34m.\u001b[0m\u001b[0m_call\u001b[0m\u001b[0;34m(\u001b[0m\u001b[0minputs\u001b[0m\u001b[0;34m)\u001b[0m\u001b[0;34m\u001b[0m\u001b[0;34m\u001b[0m\u001b[0m\n\u001b[0m\u001b[1;32m   2980\u001b[0m         \u001b[0;32melse\u001b[0m\u001b[0;34m:\u001b[0m\u001b[0;34m\u001b[0m\u001b[0;34m\u001b[0m\u001b[0m\n\u001b[1;32m   2981\u001b[0m             \u001b[0;32mif\u001b[0m \u001b[0mpy_any\u001b[0m\u001b[0;34m(\u001b[0m\u001b[0mis_tensor\u001b[0m\u001b[0;34m(\u001b[0m\u001b[0mx\u001b[0m\u001b[0;34m)\u001b[0m \u001b[0;32mfor\u001b[0m \u001b[0mx\u001b[0m \u001b[0;32min\u001b[0m \u001b[0minputs\u001b[0m\u001b[0;34m)\u001b[0m\u001b[0;34m:\u001b[0m\u001b[0;34m\u001b[0m\u001b[0;34m\u001b[0m\u001b[0m\n",
            "\u001b[0;32m/usr/local/lib/python3.6/dist-packages/keras/backend/tensorflow_backend.py\u001b[0m in \u001b[0;36m_call\u001b[0;34m(self, inputs)\u001b[0m\n\u001b[1;32m   2935\u001b[0m             \u001b[0mfetched\u001b[0m \u001b[0;34m=\u001b[0m \u001b[0mself\u001b[0m\u001b[0;34m.\u001b[0m\u001b[0m_callable_fn\u001b[0m\u001b[0;34m(\u001b[0m\u001b[0;34m*\u001b[0m\u001b[0marray_vals\u001b[0m\u001b[0;34m,\u001b[0m \u001b[0mrun_metadata\u001b[0m\u001b[0;34m=\u001b[0m\u001b[0mself\u001b[0m\u001b[0;34m.\u001b[0m\u001b[0mrun_metadata\u001b[0m\u001b[0;34m)\u001b[0m\u001b[0;34m\u001b[0m\u001b[0;34m\u001b[0m\u001b[0m\n\u001b[1;32m   2936\u001b[0m         \u001b[0;32melse\u001b[0m\u001b[0;34m:\u001b[0m\u001b[0;34m\u001b[0m\u001b[0;34m\u001b[0m\u001b[0m\n\u001b[0;32m-> 2937\u001b[0;31m             \u001b[0mfetched\u001b[0m \u001b[0;34m=\u001b[0m \u001b[0mself\u001b[0m\u001b[0;34m.\u001b[0m\u001b[0m_callable_fn\u001b[0m\u001b[0;34m(\u001b[0m\u001b[0;34m*\u001b[0m\u001b[0marray_vals\u001b[0m\u001b[0;34m)\u001b[0m\u001b[0;34m\u001b[0m\u001b[0;34m\u001b[0m\u001b[0m\n\u001b[0m\u001b[1;32m   2938\u001b[0m         \u001b[0;32mreturn\u001b[0m \u001b[0mfetched\u001b[0m\u001b[0;34m[\u001b[0m\u001b[0;34m:\u001b[0m\u001b[0mlen\u001b[0m\u001b[0;34m(\u001b[0m\u001b[0mself\u001b[0m\u001b[0;34m.\u001b[0m\u001b[0moutputs\u001b[0m\u001b[0;34m)\u001b[0m\u001b[0;34m]\u001b[0m\u001b[0;34m\u001b[0m\u001b[0;34m\u001b[0m\u001b[0m\n\u001b[1;32m   2939\u001b[0m \u001b[0;34m\u001b[0m\u001b[0m\n",
            "\u001b[0;32m/usr/local/lib/python3.6/dist-packages/tensorflow_core/python/client/session.py\u001b[0m in \u001b[0;36m__call__\u001b[0;34m(self, *args, **kwargs)\u001b[0m\n\u001b[1;32m   1470\u001b[0m         ret = tf_session.TF_SessionRunCallable(self._session._session,\n\u001b[1;32m   1471\u001b[0m                                                \u001b[0mself\u001b[0m\u001b[0;34m.\u001b[0m\u001b[0m_handle\u001b[0m\u001b[0;34m,\u001b[0m \u001b[0margs\u001b[0m\u001b[0;34m,\u001b[0m\u001b[0;34m\u001b[0m\u001b[0;34m\u001b[0m\u001b[0m\n\u001b[0;32m-> 1472\u001b[0;31m                                                run_metadata_ptr)\n\u001b[0m\u001b[1;32m   1473\u001b[0m         \u001b[0;32mif\u001b[0m \u001b[0mrun_metadata\u001b[0m\u001b[0;34m:\u001b[0m\u001b[0;34m\u001b[0m\u001b[0;34m\u001b[0m\u001b[0m\n\u001b[1;32m   1474\u001b[0m           \u001b[0mproto_data\u001b[0m \u001b[0;34m=\u001b[0m \u001b[0mtf_session\u001b[0m\u001b[0;34m.\u001b[0m\u001b[0mTF_GetBuffer\u001b[0m\u001b[0;34m(\u001b[0m\u001b[0mrun_metadata_ptr\u001b[0m\u001b[0;34m)\u001b[0m\u001b[0;34m\u001b[0m\u001b[0;34m\u001b[0m\u001b[0m\n",
            "\u001b[0;31mKeyboardInterrupt\u001b[0m: "
          ]
        }
      ]
    },
    {
      "cell_type": "markdown",
      "metadata": {
        "id": "uM3ghh_kjHce",
        "colab_type": "text"
      },
      "source": [
        "It looks as our model was able to learn and since we are satisfied with the resultant metrics we will reload our last checkpoint."
      ]
    },
    {
      "cell_type": "code",
      "metadata": {
        "id": "MhdN9HK5jgdo",
        "colab_type": "code",
        "colab": {
          "base_uri": "https://localhost:8080/",
          "height": 50
        },
        "outputId": "c8b3f5a6-cea8-4a03-9063-8f40b40da1f9"
      },
      "source": [
        "# load best model\n",
        "try:\n",
        "    model.load_weights(path_checkpoint)\n",
        "except Exception as error:\n",
        "    print(\"Error trying to load checkpoint.\")\n",
        "    print(error)"
      ],
      "execution_count": 11,
      "outputs": [
        {
          "output_type": "stream",
          "text": [
            "Error trying to load checkpoint.\n",
            "name 'path_checkpoint' is not defined\n"
          ],
          "name": "stdout"
        }
      ]
    },
    {
      "cell_type": "markdown",
      "metadata": {
        "id": "-gV9Gp4eM89O",
        "colab_type": "text"
      },
      "source": [
        "# Evaluation\n",
        "We will take a couple of samples from test data and evaluate our algorithm on those unseen pictures. This will allow us to analize the generalization of our model."
      ]
    },
    {
      "cell_type": "code",
      "metadata": {
        "id": "YQmG5y-wN-vb",
        "colab_type": "code",
        "colab": {}
      },
      "source": [
        "from google.colab.patches import cv2_imshow\n",
        "\n",
        "def predict(num):\n",
        "    x, y = next(test_gen)\n",
        "    x = x[:num]\n",
        "    y = y[:num]\n",
        "    p = [model.predict(np.expand_dims(x[i], axis=0))[0] for i in range(len(x))]\n",
        "    for r in range(len(x)):\n",
        "        a = np.array(x[r])*255\n",
        "        b = np.zeros(shape=x[r].shape)\n",
        "        c = np.zeros(shape=x[r].shape)\n",
        "        for i in range(120):\n",
        "            for j in range(160):\n",
        "                b[i,j,0] = y[r][i,j]\n",
        "                b[i,j,1] = y[r][i,j]\n",
        "                b[i,j,2] = y[r][i,j]\n",
        "                c[i,j,0] = p[r][i,j]\n",
        "                c[i,j,1] = p[r][i,j]\n",
        "                c[i,j,2] = p[r][i,j]\n",
        "        b = b*255\n",
        "        c = c*255\n",
        "        img = np.concatenate((a, b, c), axis=1)\n",
        "        cv2_imshow(img)"
      ],
      "execution_count": 0,
      "outputs": []
    },
    {
      "cell_type": "code",
      "metadata": {
        "id": "1rvFlrJR-PNa",
        "colab_type": "code",
        "outputId": "2986521e-53db-4593-9727-d0b99f01452a",
        "colab": {
          "base_uri": "https://localhost:8080/",
          "height": 617
        }
      },
      "source": [
        "predict(5)"
      ],
      "execution_count": 13,
      "outputs": [
        {
          "output_type": "display_data",
          "data": {
            "image/png": "[encoded data removed]",
            "text/plain": [
              "<PIL.Image.Image image mode=RGB size=480x120 at 0x7F86196DBB70>"
            ]
          },
          "metadata": {
            "tags": []
          }
        },
        {
          "output_type": "display_data",
          "data": {
            "image/png": "[encoded data removed]",
            "text/plain": [
              "<PIL.Image.Image image mode=RGB size=480x120 at 0x7F86196DB080>"
            ]
          },
          "metadata": {
            "tags": []
          }
        },
        {
          "output_type": "display_data",
          "data": {
            "image/png": "[encoded data removed]",
            "text/plain": [
              "<PIL.Image.Image image mode=RGB size=480x120 at 0x7F86196DBF28>"
            ]
          },
          "metadata": {
            "tags": []
          }
        },
        {
          "output_type": "display_data",
          "data": {
            "image/png": "[encoded data removed]",
            "text/plain": [
              "<PIL.Image.Image image mode=RGB size=480x120 at 0x7F86196DBB70>"
            ]
          },
          "metadata": {
            "tags": []
          }
        },
        {
          "output_type": "display_data",
          "data": {
            "image/png": "[encoded data removed]",
            "text/plain": [
              "<PIL.Image.Image image mode=RGB size=480x120 at 0x7F86196DB080>"
            ]
          },
          "metadata": {
            "tags": []
          }
        }
      ]
    },
    {
      "cell_type": "markdown",
      "metadata": {
        "id": "SmNs2Nnejcqp",
        "colab_type": "text"
      },
      "source": [
        "It looks as our model was able to predict quite correctly the right lane in the simulated environment. Some noises appear at some point but overall the accuracy is adequate."
      ]
    }
  ]
}